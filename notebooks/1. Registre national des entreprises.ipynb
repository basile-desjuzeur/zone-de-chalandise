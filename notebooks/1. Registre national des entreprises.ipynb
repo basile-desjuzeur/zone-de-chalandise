{
 "cells": [
  {
   "cell_type": "markdown",
   "metadata": {},
   "source": [
    "<div style=\"text-align: center;\">\n",
    "    <h1>Registre national des entreprises (RNE)</h1>\n",
    "</div>\n",
    "\n",
    "Ce registre vient de [l'Institut National de la Propriété Industrielle](https://data.inpi.fr/) qui donne accès à de nombreuses données sur les entreprises.\n",
    "\n",
    "Les données peuvent être consultées sur le web, sur le serveur de l'INPI ou par API. Il aurait été pratique d'utiliser l'API pour des questions de facilité de prise en main, de mise à jour des données etc ...\n",
    "\n",
    "Néanmoins la [documentation officielle](https://www.inpi.fr/sites/default/files/documentation_technique_API_formalit%C3%A9s_v2.5.pdf) indique qu'il est impossible de filtrer géographiquement les établissements dans les méthodes GET et impose une limite de 10 Go / jour / utilisateur, ce qui est bloquant pour notre application.\n",
    "\n",
    "On va donc utiliser les serveurs et télécharger les donnéees avec le protocole FTP.\n",
    "\n",
    "Pour cela, il faut créer un compte INPI et faire la demande pour avoir les accès.\n",
    "\n",
    "Une fois le compte crée, on peut accéder au serveur FTP de l'INPI (voir [ici](https://data.inpi.fr/content/editorial/Serveur_ftp_entreprises)).\n",
    "\n",
    "Les données user_id / mdp sont retrouvables sur [ce lien](https://data.inpi.fr/espace_personnel/acces).\n",
    "\n",
    "On télécharge le registre des Créations, modifications, cessations (CMC) d'entreprises.\n",
    "\n",
    "\n",
    "Pour le télécharger, on peut s'inspirer du **code suivant** :\n",
    "\n",
    "```bash\n",
    "# connexion au serveur ftp de l'inpi\n",
    "sftp user_id@www.inpi.net\n",
    "\n",
    "# accepter la connexion et rentrer le mot de passe\n",
    "\n",
    "# création d'un dossier sur la machine locale\n",
    "lmkdir rne\n",
    "\n",
    "# navigation dans ce dossier \n",
    "llcd rne\n",
    "\n",
    "# téléchargement des fichiers\n",
    "get stock RNE formalité.zip \n",
    "\n",
    "# le téléchargement dure 15 min environ\n",
    "\n",
    "# décompression des données\n",
    "unzip stock RNE formalité.zip "
   ]
  },
  {
   "cell_type": "code",
   "execution_count": 4,
   "metadata": {},
   "outputs": [],
   "source": [
    "import pandas as pd\n",
    "import json \n",
    "import os\n",
    "from tqdm import tqdm\n",
    "import numpy as np\n",
    "import pyarrow.parquet as pq\n",
    "\n",
    "import sys\n",
    "sys.path.append('../src/download')\n",
    "from parse_rne import Entreprise, parse_formality"
   ]
  },
  {
   "cell_type": "markdown",
   "metadata": {},
   "source": [
    "## 1.1 Exploration des données"
   ]
  },
  {
   "cell_type": "markdown",
   "metadata": {},
   "source": [
    "A quoi ressemble le document ?"
   ]
  },
  {
   "cell_type": "code",
   "execution_count": 2,
   "metadata": {},
   "outputs": [
    {
     "data": {
      "text/plain": [
       "{'updatedAt': '2023-03-06T16:48:28+01:00',\n",
       " 'id': '64060b4c363a4f0cd40a5d33',\n",
       " 'formality': {'siren': '001303346',\n",
       "  'content': {'natureCreation': {'dateCreation': '2016-09-26',\n",
       "    'societeEtrangere': False,\n",
       "    'microEntreprise': False,\n",
       "    'etablieEnFrance': True,\n",
       "    'salarieEnFrance': True,\n",
       "    'relieeEntrepriseAgricole': False,\n",
       "    'entrepriseAgricole': True,\n",
       "    'eirl': False},\n",
       "   'personneMorale': {'identite': {'entreprise': {'siren': '001303346',\n",
       "      'denomination': 'KATCHIT',\n",
       "      'formeJuridique': '6901',\n",
       "      'dateImmat': '2016-09-26T00:00:00+02:00'},\n",
       "     'description': {'indicateurOrigineFusionScission': False}}}},\n",
       "  'diffusionCommerciale': True},\n",
       " 'siren': '001303346'}"
      ]
     },
     "execution_count": 2,
     "metadata": {},
     "output_type": "execute_result"
    }
   ],
   "source": [
    "json_path = \"../../rne/rne_deflated/stock_000001.json\"\n",
    "\n",
    "\n",
    "with open(json_path,\"r\") as file :\n",
    "\n",
    "    text = json.load(file)\n",
    "\n",
    "text[0]"
   ]
  },
  {
   "cell_type": "markdown",
   "metadata": {},
   "source": [
    "Visiblement les données sont agglomérées au niveau du code siren (entreprise), pour chaque entreprise il y a une entrée par siret (établissement)."
   ]
  },
  {
   "cell_type": "code",
   "execution_count": 4,
   "metadata": {},
   "outputs": [
    {
     "name": "stdout",
     "output_type": "stream",
     "text": [
      "Il y a 99,997 entrées d'entreprises dans le fichier,\n",
      "       soit environ 24,099,277 entreprises au total sur les 241 fichiers téléchargés\n"
     ]
    }
   ],
   "source": [
    "nb_établissements = len(text)\n",
    "nb_fichiers =len([ file for file in os.listdir(\"../../rne/rne_deflated\") if file.endswith('json')])\n",
    "\n",
    "print(\"\"\"Il y a {:,} entrées d'entreprises dans le fichier,\n",
    "       soit environ {:,} entreprises au total sur les {:,} fichiers téléchargés\"\"\"\n",
    "      .format(nb_établissements,nb_fichiers*nb_établissements,nb_fichiers))"
   ]
  },
  {
   "cell_type": "markdown",
   "metadata": {},
   "source": [
    "# 2. Tests"
   ]
  },
  {
   "cell_type": "markdown",
   "metadata": {},
   "source": [
    "## 2.1 Sur une entreprise fictive\n",
    "\n",
    "On a crée un dossier [test](../data/Données%20sites/test), modifiable à volonté et qui permet de tester différents scénarios.\n",
    "\n",
    "En particulier on teste les cas suivants : \n",
    "- établissement principal fermé et les autres ouverts\n",
    "- un établissement hors de France\n",
    "- personne ni physique ni morale  (indivision)\n",
    "- différents codes APE\n"
   ]
  },
  {
   "cell_type": "code",
   "execution_count": 5,
   "metadata": {},
   "outputs": [
    {
     "data": {
      "text/plain": [
       "[{'codeApe': '17.21B',\n",
       "  'siret': '06920075600034',\n",
       "  'nomCommercial': 'CARTONNAGES MECHINAUD',\n",
       "  'codeInseeCommune': '44150',\n",
       "  'adresse': ' AV ST EXUPERY 44860 SAINT-AIGNAN-GRANDLIEU',\n",
       "  'diffusionCommerciale': True}]"
      ]
     },
     "execution_count": 5,
     "metadata": {},
     "output_type": "execute_result"
    }
   ],
   "source": [
    "file = \"../data/test/test_parse_rne.json\"\n",
    "\n",
    "with open(file,\"r\") as file :\n",
    "    text = json.load(file)\n",
    "\n",
    "entreprise = Entreprise(text[\"formality\"])\n",
    "\n",
    "entreprise.etablissements_to_dict()"
   ]
  },
  {
   "cell_type": "markdown",
   "metadata": {},
   "source": [
    "### 2.2 Sur un fichier json complet"
   ]
  },
  {
   "cell_type": "code",
   "execution_count": 25,
   "metadata": {},
   "outputs": [
    {
     "name": "stderr",
     "output_type": "stream",
     "text": [
      "100%|██████████| 99997/99997 [00:00<00:00, 187616.25it/s]\n"
     ]
    },
    {
     "name": "stdout",
     "output_type": "stream",
     "text": [
      "CPU times: user 4.42 s, sys: 5.52 s, total: 9.94 s\n",
      "Wall time: 12.2 s\n"
     ]
    }
   ],
   "source": [
    "%%time \n",
    "\n",
    "df = pd.read_json(json_path)[[\"formality\"]]\n",
    "\n",
    "tqdm.pandas()\n",
    "\n",
    "df[\"formality\"] = df['formality'].progress_apply(lambda x : parse_formality(x))\n",
    "\n",
    "df.dropna(subset=[\"formality\"],inplace=True)\n",
    "\n",
    "df = df.explode(\"formality\")[\"formality\"].apply(pd.Series)\n"
   ]
  },
  {
   "cell_type": "code",
   "execution_count": 26,
   "metadata": {},
   "outputs": [
    {
     "name": "stdout",
     "output_type": "stream",
     "text": [
      "<class 'pandas.core.frame.DataFrame'>\n",
      "Index: 11053 entries, 66 to 99907\n",
      "Data columns (total 6 columns):\n",
      " #   Column                Non-Null Count  Dtype \n",
      "---  ------                --------------  ----- \n",
      " 0   codeApe               11053 non-null  object\n",
      " 1   siret                 11053 non-null  object\n",
      " 2   nomCommercial         11053 non-null  object\n",
      " 3   codeInseeCommune      11053 non-null  object\n",
      " 4   adresse               11053 non-null  object\n",
      " 5   diffusionCommerciale  11053 non-null  bool  \n",
      "dtypes: bool(1), object(5)\n",
      "memory usage: 528.9+ KB\n"
     ]
    }
   ],
   "source": [
    "df.info()"
   ]
  },
  {
   "cell_type": "markdown",
   "metadata": {},
   "source": [
    "# 3. Sur tous les fichiers "
   ]
  },
  {
   "cell_type": "markdown",
   "metadata": {},
   "source": [
    "Parsing des fichiers"
   ]
  },
  {
   "cell_type": "code",
   "execution_count": 3,
   "metadata": {},
   "outputs": [
    {
     "name": "stderr",
     "output_type": "stream",
     "text": [
      "  0%|          | 0/241 [00:00<?, ?it/s]"
     ]
    },
    {
     "name": "stderr",
     "output_type": "stream",
     "text": [
      "100%|██████████| 241/241 [53:12<00:00, 13.25s/it] \n"
     ]
    }
   ],
   "source": [
    "path = \"../../rne/rne_deflated/\"\n",
    "\n",
    "files = [file for file in os.listdir(path) if file.endswith('json')]\n",
    "\n",
    "\n",
    "dtypes = {'codeApe': 'object','siret': int ,'nomCommercial': 'object', 'codeInseeCommune': \"object\" , 'adresse': 'object',\n",
    "         'diffusionCommerciale': 'bool'}\n",
    "\n",
    "os.makedirs(\"../../rne/rne_parsed\",exist_ok=True)\n",
    "\n",
    "# parsing des fichiers json\n",
    "for file in tqdm(files) :\n",
    "    df = pd.read_json(path+file)[[\"formality\"]]\n",
    "    df[\"formality\"] = df['formality'].apply(lambda x : parse_formality(x))\n",
    "    df.dropna(subset=[\"formality\"],inplace=True)\n",
    "    df = df.explode(\"formality\")[\"formality\"].apply(pd.Series)\n",
    "    df.astype(dtypes,copy=False,errors=\"ignore\")\n",
    "    df.to_parquet(\"../../rne/rne_parsed/\"+file[:-5]+\".parquet\", index=False, compression='gzip')\n"
   ]
  },
  {
   "cell_type": "markdown",
   "metadata": {},
   "source": [
    "Création d'un seul fichier"
   ]
  },
  {
   "cell_type": "code",
   "execution_count": 6,
   "metadata": {},
   "outputs": [],
   "source": [
    "path = \"../../rne/rne_parsed/\"\n",
    "files = [os.path.join(path,file) for file in os.listdir(path) if file.endswith('parquet')]\n",
    "         \n",
    "\n",
    "schema = pq.ParquetFile(files[0]).schema_arrow\n",
    "with pq.ParquetWriter(\"../data/Données nationales/RNE.parquet\", schema=schema) as writer:\n",
    "    for file in files:\n",
    "        writer.write_table(pq.read_table(file, schema=schema))"
   ]
  },
  {
   "cell_type": "markdown",
   "metadata": {},
   "source": [
    "# 4. Fichier final "
   ]
  },
  {
   "cell_type": "code",
   "execution_count": 7,
   "metadata": {},
   "outputs": [
    {
     "name": "stdout",
     "output_type": "stream",
     "text": [
      "<class 'pandas.core.frame.DataFrame'>\n",
      "RangeIndex: 5074487 entries, 0 to 5074486\n",
      "Data columns (total 6 columns):\n",
      " #   Column                Dtype \n",
      "---  ------                ----- \n",
      " 0   codeApe               object\n",
      " 1   siret                 object\n",
      " 2   nomCommercial         object\n",
      " 3   codeInseeCommune      object\n",
      " 4   adresse               object\n",
      " 5   diffusionCommerciale  bool  \n",
      "dtypes: bool(1), object(5)\n",
      "memory usage: 198.4+ MB\n"
     ]
    }
   ],
   "source": [
    "df_final = pd.read_parquet(\"../data/Données nationales/RNE.parquet\")\n",
    "\n",
    "df_final.info()"
   ]
  }
 ],
 "metadata": {
  "kernelspec": {
   "display_name": "venv_zone_de_chalandise",
   "language": "python",
   "name": "python3"
  },
  "language_info": {
   "codemirror_mode": {
    "name": "ipython",
    "version": 3
   },
   "file_extension": ".py",
   "mimetype": "text/x-python",
   "name": "python",
   "nbconvert_exporter": "python",
   "pygments_lexer": "ipython3",
   "version": "3.9.6"
  }
 },
 "nbformat": 4,
 "nbformat_minor": 2
}
