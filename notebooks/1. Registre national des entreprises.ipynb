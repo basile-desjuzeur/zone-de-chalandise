{
 "cells": [
  {
   "cell_type": "markdown",
   "metadata": {},
   "source": [
    "<div style=\"text-align: center;\">\n",
    "    <h1>Registre national des entreprises (RNE)</h1>\n",
    "</div>\n",
    "\n",
    "Ce registre vient de [l'Institut National de la Propriété Industrielle](https://data.inpi.fr/) qui donne accès à de nombreuses données sur les entreprises.\n",
    "\n",
    "Les données peuvent être consultées sur le web, sur le serveur de l'INPI ou par API. Il aurait été pratique d'utiliser l'API pour des questions de facilité de prise en main, de mise à jour des données etc ...\n",
    "\n",
    "Néanmoins la [documentation officielle](https://www.inpi.fr/sites/default/files/documentation_technique_API_formalit%C3%A9s_v2.5.pdf) indique qu'il est impossible de filtrer géographiquement les établissements dans les méthodes GET et impose une limite de 10 Go / jour / utilisateur, ce qui est bloquant pour notre application.\n",
    "\n",
    "On va donc utiliser les serveurs et télécharger les donnéees avec le protocole FTP.\n",
    "\n",
    "Pour cela, il faut créer un compte INPI et faire la demande pour avoir les accès.\n",
    "\n",
    "Une fois le compte crée, on peut accéder au serveur FTP de l'INPI (voir [ici](https://data.inpi.fr/content/editorial/Serveur_ftp_entreprises)).\n",
    "\n",
    "Les données user_id / mdp sont retrouvables sur [ce lien](https://data.inpi.fr/espace_personnel/acces).\n",
    "\n",
    "On télécharge le registre des Créations, modifications, cessations (CMC) d'entreprises.\n",
    "\n",
    "\n",
    "Pour le télécharger, on peut s'inspirer du **code suivant** :\n",
    "\n",
    "```bash\n",
    "# connexion au serveur ftp de l'inpi\n",
    "sftp user_id@www.inpi.net\n",
    "\n",
    "# accepter la connexion et rentrer le mot de passe\n",
    "\n",
    "# création d'un dossier sur la machine locale\n",
    "lmkdir rne\n",
    "\n",
    "# navigation dans ce dossier \n",
    "llcd rne\n",
    "\n",
    "# téléchargement des fichiers\n",
    "get stock RNE formalité.zip \n",
    "\n",
    "# le téléchargement dure 15 min environ\n",
    "\n",
    "# décompression des données\n",
    "unzip stock RNE formalité.zip "
   ]
  },
  {
   "cell_type": "code",
   "execution_count": 2,
   "metadata": {},
   "outputs": [],
   "source": [
    "import pandas as pd\n",
    "import json\n",
    "import os\n",
    "from tqdm import tqdm\n",
    "import numpy as np\n",
    "import pyarrow.parquet as pq\n",
    "\n",
    "import sys\n",
    "\n",
    "sys.path.append(\"../src/download\")\n",
    "from parse_rne import Entreprise, parse_formality"
   ]
  },
  {
   "cell_type": "markdown",
   "metadata": {},
   "source": [
    "## 1.1 Exploration des données"
   ]
  },
  {
   "cell_type": "markdown",
   "metadata": {},
   "source": [
    "A quoi ressemble le document ?"
   ]
  },
  {
   "cell_type": "code",
   "execution_count": 2,
   "metadata": {},
   "outputs": [
    {
     "data": {
      "text/plain": [
       "{'updatedAt': '2023-03-06T16:48:28+01:00',\n",
       " 'id': '64060b4c363a4f0cd40a5d33',\n",
       " 'formality': {'siren': '001303346',\n",
       "  'content': {'natureCreation': {'dateCreation': '2016-09-26',\n",
       "    'societeEtrangere': False,\n",
       "    'microEntreprise': False,\n",
       "    'etablieEnFrance': True,\n",
       "    'salarieEnFrance': True,\n",
       "    'relieeEntrepriseAgricole': False,\n",
       "    'entrepriseAgricole': True,\n",
       "    'eirl': False},\n",
       "   'personneMorale': {'identite': {'entreprise': {'siren': '001303346',\n",
       "      'denomination': 'KATCHIT',\n",
       "      'formeJuridique': '6901',\n",
       "      'dateImmat': '2016-09-26T00:00:00+02:00'},\n",
       "     'description': {'indicateurOrigineFusionScission': False}}}},\n",
       "  'diffusionCommerciale': True},\n",
       " 'siren': '001303346'}"
      ]
     },
     "execution_count": 2,
     "metadata": {},
     "output_type": "execute_result"
    }
   ],
   "source": [
    "json_path = \"../../rne/rne_deflated/stock_000001.json\"\n",
    "\n",
    "\n",
    "with open(json_path, \"r\") as file:\n",
    "    text = json.load(file)\n",
    "\n",
    "text[0]"
   ]
  },
  {
   "cell_type": "markdown",
   "metadata": {},
   "source": [
    "Visiblement les données sont agglomérées au niveau du code siren (entreprise), pour chaque entreprise il y a une entrée par siret (établissement)."
   ]
  },
  {
   "cell_type": "code",
   "execution_count": 4,
   "metadata": {},
   "outputs": [
    {
     "name": "stdout",
     "output_type": "stream",
     "text": [
      "Il y a 99,997 entrées d'entreprises dans le fichier,\n",
      "       soit environ 24,099,277 entreprises au total sur les 241 fichiers téléchargés\n"
     ]
    }
   ],
   "source": [
    "nb_établissements = len(text)\n",
    "nb_fichiers = len(\n",
    "    [file for file in os.listdir(\"../../rne/rne_deflated\") if file.endswith(\"json\")]\n",
    ")\n",
    "\n",
    "print(\n",
    "    \"\"\"Il y a {:,} entrées d'entreprises dans le fichier,\n",
    "       soit environ {:,} entreprises au total sur les {:,} fichiers téléchargés\"\"\".format(\n",
    "        nb_établissements, nb_fichiers * nb_établissements, nb_fichiers\n",
    "    )\n",
    ")"
   ]
  },
  {
   "cell_type": "markdown",
   "metadata": {},
   "source": [
    "# 2. Tests"
   ]
  },
  {
   "cell_type": "markdown",
   "metadata": {},
   "source": [
    "## 2.1 Sur une entreprise fictive\n",
    "\n",
    "On a crée un dossier [test](../data/Données%20sites/test), modifiable à volonté et qui permet de tester différents scénarios.\n",
    "\n",
    "En particulier on teste les cas suivants : \n",
    "- établissement principal fermé et les autres ouverts\n",
    "- un établissement hors de France\n",
    "- personne ni physique ni morale  (indivision)\n",
    "- différents codes APE\n"
   ]
  },
  {
   "cell_type": "code",
   "execution_count": 5,
   "metadata": {},
   "outputs": [
    {
     "data": {
      "text/plain": [
       "[{'codeApe': '17.21B',\n",
       "  'siret': '06920075600034',\n",
       "  'nomCommercial': 'CARTONNAGES MECHINAUD',\n",
       "  'codeInseeCommune': '44150',\n",
       "  'adresse': ' AV ST EXUPERY 44860 SAINT-AIGNAN-GRANDLIEU',\n",
       "  'diffusionCommerciale': True}]"
      ]
     },
     "execution_count": 5,
     "metadata": {},
     "output_type": "execute_result"
    }
   ],
   "source": [
    "file = \"../data/test/test_parse_rne.json\"\n",
    "\n",
    "with open(file, \"r\") as file:\n",
    "    text = json.load(file)\n",
    "\n",
    "entreprise = Entreprise(text[\"formality\"])\n",
    "\n",
    "entreprise.etablissements_to_dict()"
   ]
  },
  {
   "cell_type": "markdown",
   "metadata": {},
   "source": [
    "### 2.2 Sur un fichier json complet"
   ]
  },
  {
   "cell_type": "code",
   "execution_count": 25,
   "metadata": {},
   "outputs": [
    {
     "name": "stderr",
     "output_type": "stream",
     "text": [
      "100%|██████████| 99997/99997 [00:00<00:00, 187616.25it/s]\n"
     ]
    },
    {
     "name": "stdout",
     "output_type": "stream",
     "text": [
      "CPU times: user 4.42 s, sys: 5.52 s, total: 9.94 s\n",
      "Wall time: 12.2 s\n"
     ]
    }
   ],
   "source": [
    "%%time\n",
    "\n",
    "df = pd.read_json(json_path)[[\"formality\"]]\n",
    "\n",
    "tqdm.pandas()\n",
    "\n",
    "df[\"formality\"] = df[\"formality\"].progress_apply(lambda x: parse_formality(x))\n",
    "\n",
    "df.dropna(subset=[\"formality\"], inplace=True)\n",
    "\n",
    "df = df.explode(\"formality\")[\"formality\"].apply(pd.Series)"
   ]
  },
  {
   "cell_type": "code",
   "execution_count": 26,
   "metadata": {},
   "outputs": [
    {
     "name": "stdout",
     "output_type": "stream",
     "text": [
      "<class 'pandas.core.frame.DataFrame'>\n",
      "Index: 11053 entries, 66 to 99907\n",
      "Data columns (total 6 columns):\n",
      " #   Column                Non-Null Count  Dtype \n",
      "---  ------                --------------  ----- \n",
      " 0   codeApe               11053 non-null  object\n",
      " 1   siret                 11053 non-null  object\n",
      " 2   nomCommercial         11053 non-null  object\n",
      " 3   codeInseeCommune      11053 non-null  object\n",
      " 4   adresse               11053 non-null  object\n",
      " 5   diffusionCommerciale  11053 non-null  bool  \n",
      "dtypes: bool(1), object(5)\n",
      "memory usage: 528.9+ KB\n"
     ]
    }
   ],
   "source": [
    "df.info()"
   ]
  },
  {
   "cell_type": "markdown",
   "metadata": {},
   "source": [
    "# 3. Sur tous les fichiers "
   ]
  },
  {
   "cell_type": "markdown",
   "metadata": {},
   "source": [
    "Parsing des fichiers"
   ]
  },
  {
   "cell_type": "code",
   "execution_count": 3,
   "metadata": {},
   "outputs": [
    {
     "name": "stderr",
     "output_type": "stream",
     "text": [
      "  0%|          | 0/241 [00:00<?, ?it/s]"
     ]
    },
    {
     "name": "stderr",
     "output_type": "stream",
     "text": [
      "100%|██████████| 241/241 [53:12<00:00, 13.25s/it] \n"
     ]
    }
   ],
   "source": [
    "path = \"../../rne/rne_deflated/\"\n",
    "\n",
    "files = [file for file in os.listdir(path) if file.endswith(\"json\")]\n",
    "\n",
    "\n",
    "dtypes = {\n",
    "    \"codeApe\": \"object\",\n",
    "    \"siret\": int,\n",
    "    \"nomCommercial\": \"object\",\n",
    "    \"codeInseeCommune\": \"object\",\n",
    "    \"adresse\": \"object\",\n",
    "    \"diffusionCommerciale\": \"bool\",\n",
    "}\n",
    "\n",
    "os.makedirs(\"../../rne/rne_parsed\", exist_ok=True)\n",
    "\n",
    "# parsing des fichiers json\n",
    "for file in tqdm(files):\n",
    "    df = pd.read_json(path + file)[[\"formality\"]]\n",
    "    df[\"formality\"] = df[\"formality\"].apply(lambda x: parse_formality(x))\n",
    "    df.dropna(subset=[\"formality\"], inplace=True)\n",
    "    df = df.explode(\"formality\")[\"formality\"].apply(pd.Series)\n",
    "    df.astype(dtypes, copy=False, errors=\"ignore\")\n",
    "    df.to_parquet(\n",
    "        \"../../rne/rne_parsed/\" + file[:-5] + \".parquet\",\n",
    "        index=False,\n",
    "        compression=\"gzip\",\n",
    "    )"
   ]
  },
  {
   "cell_type": "markdown",
   "metadata": {},
   "source": [
    "Création d'un seul fichier"
   ]
  },
  {
   "cell_type": "code",
   "execution_count": 6,
   "metadata": {},
   "outputs": [],
   "source": [
    "path = \"../../rne/rne_parsed/\"\n",
    "files = [\n",
    "    os.path.join(path, file) for file in os.listdir(path) if file.endswith(\"parquet\")\n",
    "]\n",
    "\n",
    "\n",
    "schema = pq.ParquetFile(files[0]).schema_arrow\n",
    "with pq.ParquetWriter(\n",
    "    \"../data/Données nationales/RNE.parquet\", schema=schema\n",
    ") as writer:\n",
    "    for file in files:\n",
    "        writer.write_table(pq.read_table(file, schema=schema))"
   ]
  },
  {
   "cell_type": "markdown",
   "metadata": {},
   "source": [
    "# 4. Fichier final "
   ]
  },
  {
   "cell_type": "code",
   "execution_count": 3,
   "metadata": {},
   "outputs": [
    {
     "name": "stdout",
     "output_type": "stream",
     "text": [
      "<class 'pandas.core.frame.DataFrame'>\n",
      "RangeIndex: 5074487 entries, 0 to 5074486\n",
      "Data columns (total 6 columns):\n",
      " #   Column                Dtype \n",
      "---  ------                ----- \n",
      " 0   codeApe               object\n",
      " 1   siret                 object\n",
      " 2   nomCommercial         object\n",
      " 3   codeInseeCommune      object\n",
      " 4   adresse               object\n",
      " 5   diffusionCommerciale  bool  \n",
      "dtypes: bool(1), object(5)\n",
      "memory usage: 198.4+ MB\n"
     ]
    }
   ],
   "source": [
    "df_final = pd.read_parquet(\"../data/Données nationales/RNE.parquet\")\n",
    "\n",
    "df_final.info()"
   ]
  },
  {
   "cell_type": "code",
   "execution_count": 4,
   "metadata": {},
   "outputs": [
    {
     "data": {
      "text/html": [
       "<div>\n",
       "<style scoped>\n",
       "    .dataframe tbody tr th:only-of-type {\n",
       "        vertical-align: middle;\n",
       "    }\n",
       "\n",
       "    .dataframe tbody tr th {\n",
       "        vertical-align: top;\n",
       "    }\n",
       "\n",
       "    .dataframe thead th {\n",
       "        text-align: right;\n",
       "    }\n",
       "</style>\n",
       "<table border=\"1\" class=\"dataframe\">\n",
       "  <thead>\n",
       "    <tr style=\"text-align: right;\">\n",
       "      <th></th>\n",
       "      <th>codeApe</th>\n",
       "      <th>siret</th>\n",
       "      <th>nomCommercial</th>\n",
       "      <th>codeInseeCommune</th>\n",
       "      <th>adresse</th>\n",
       "      <th>diffusionCommerciale</th>\n",
       "    </tr>\n",
       "  </thead>\n",
       "  <tbody>\n",
       "    <tr>\n",
       "      <th>count</th>\n",
       "      <td>5074487</td>\n",
       "      <td>5074487</td>\n",
       "      <td>5074487</td>\n",
       "      <td>5074487</td>\n",
       "      <td>5074487</td>\n",
       "      <td>5074487</td>\n",
       "    </tr>\n",
       "    <tr>\n",
       "      <th>unique</th>\n",
       "      <td>1378</td>\n",
       "      <td>5073991</td>\n",
       "      <td>1811798</td>\n",
       "      <td>34861</td>\n",
       "      <td>2895488</td>\n",
       "      <td>2</td>\n",
       "    </tr>\n",
       "    <tr>\n",
       "      <th>top</th>\n",
       "      <td>68.20B</td>\n",
       "      <td></td>\n",
       "      <td></td>\n",
       "      <td>75108</td>\n",
       "      <td>26 RUE DES RIGOLES 75020 PARIS 20</td>\n",
       "      <td>True</td>\n",
       "    </tr>\n",
       "    <tr>\n",
       "      <th>freq</th>\n",
       "      <td>476248</td>\n",
       "      <td>493</td>\n",
       "      <td>2286552</td>\n",
       "      <td>57927</td>\n",
       "      <td>2208</td>\n",
       "      <td>5074428</td>\n",
       "    </tr>\n",
       "  </tbody>\n",
       "</table>\n",
       "</div>"
      ],
      "text/plain": [
       "        codeApe    siret nomCommercial codeInseeCommune  \\\n",
       "count   5074487  5074487       5074487          5074487   \n",
       "unique     1378  5073991       1811798            34861   \n",
       "top      68.20B                                   75108   \n",
       "freq     476248      493       2286552            57927   \n",
       "\n",
       "                                  adresse diffusionCommerciale  \n",
       "count                             5074487              5074487  \n",
       "unique                            2895488                    2  \n",
       "top     26 RUE DES RIGOLES 75020 PARIS 20                 True  \n",
       "freq                                 2208              5074428  "
      ]
     },
     "execution_count": 4,
     "metadata": {},
     "output_type": "execute_result"
    }
   ],
   "source": [
    "df_final.describe()"
   ]
  },
  {
   "cell_type": "markdown",
   "metadata": {},
   "source": [
    "Certains siret ne sont pas uniques, c'est étrange pour un identifiant unique...\n",
    "Quels sont les entreprises en cause ?"
   ]
  },
  {
   "cell_type": "code",
   "execution_count": 14,
   "metadata": {},
   "outputs": [
    {
     "data": {
      "text/plain": [
       "count\n",
       "1      5073986\n",
       "2            4\n",
       "493          1\n",
       "Name: count, dtype: int64"
      ]
     },
     "execution_count": 14,
     "metadata": {},
     "output_type": "execute_result"
    }
   ],
   "source": [
    "df_final.siret.value_counts().value_counts()"
   ]
  },
  {
   "cell_type": "code",
   "execution_count": 16,
   "metadata": {},
   "outputs": [
    {
     "data": {
      "text/html": [
       "<div>\n",
       "<style scoped>\n",
       "    .dataframe tbody tr th:only-of-type {\n",
       "        vertical-align: middle;\n",
       "    }\n",
       "\n",
       "    .dataframe tbody tr th {\n",
       "        vertical-align: top;\n",
       "    }\n",
       "\n",
       "    .dataframe thead th {\n",
       "        text-align: right;\n",
       "    }\n",
       "</style>\n",
       "<table border=\"1\" class=\"dataframe\">\n",
       "  <thead>\n",
       "    <tr style=\"text-align: right;\">\n",
       "      <th></th>\n",
       "      <th>codeApe</th>\n",
       "      <th>siret</th>\n",
       "      <th>nomCommercial</th>\n",
       "      <th>codeInseeCommune</th>\n",
       "      <th>adresse</th>\n",
       "      <th>diffusionCommerciale</th>\n",
       "    </tr>\n",
       "  </thead>\n",
       "  <tbody>\n",
       "    <tr>\n",
       "      <th>2327277</th>\n",
       "      <td>.</td>\n",
       "      <td>95325826600014</td>\n",
       "      <td>SCI La Belle Vie</td>\n",
       "      <td>44036</td>\n",
       "      <td>33 RUE Michel Grimault 44110 Châteaubriant</td>\n",
       "      <td>True</td>\n",
       "    </tr>\n",
       "    <tr>\n",
       "      <th>2327279</th>\n",
       "      <td>.</td>\n",
       "      <td>95325826600014</td>\n",
       "      <td>SCI La Belle Vie</td>\n",
       "      <td>44036</td>\n",
       "      <td>33 RUE Michel Grimault 44110 Châteaubriant</td>\n",
       "      <td>True</td>\n",
       "    </tr>\n",
       "    <tr>\n",
       "      <th>3517279</th>\n",
       "      <td>56.10C</td>\n",
       "      <td>94890329900014</td>\n",
       "      <td>HAPPY SELENE</td>\n",
       "      <td>15187</td>\n",
       "      <td>6 AV Léon Bélard 15100 Saint-Flour</td>\n",
       "      <td>True</td>\n",
       "    </tr>\n",
       "    <tr>\n",
       "      <th>3517280</th>\n",
       "      <td>.</td>\n",
       "      <td>94890329900014</td>\n",
       "      <td>HAPPY SELENE</td>\n",
       "      <td>15014</td>\n",
       "      <td>1 RUE Sainte Anne 15000 Aurillac</td>\n",
       "      <td>True</td>\n",
       "    </tr>\n",
       "    <tr>\n",
       "      <th>3514948</th>\n",
       "      <td>46.39A</td>\n",
       "      <td>94832829900011</td>\n",
       "      <td>JBSAZ</td>\n",
       "      <td>97407</td>\n",
       "      <td>31 RUE François de Mahy 97420 Le Port</td>\n",
       "      <td>True</td>\n",
       "    </tr>\n",
       "    <tr>\n",
       "      <th>...</th>\n",
       "      <td>...</td>\n",
       "      <td>...</td>\n",
       "      <td>...</td>\n",
       "      <td>...</td>\n",
       "      <td>...</td>\n",
       "      <td>...</td>\n",
       "    </tr>\n",
       "    <tr>\n",
       "      <th>3514013</th>\n",
       "      <td>.</td>\n",
       "      <td></td>\n",
       "      <td>SCI ROMANDRA WEISS</td>\n",
       "      <td>59042</td>\n",
       "      <td>797 RTE Nationale 59830 Bachy</td>\n",
       "      <td>True</td>\n",
       "    </tr>\n",
       "    <tr>\n",
       "      <th>3514008</th>\n",
       "      <td>.</td>\n",
       "      <td></td>\n",
       "      <td>FOREVER PARIS</td>\n",
       "      <td>92035</td>\n",
       "      <td>113 AV du General Leclerc 92250 La Garenne-Col...</td>\n",
       "      <td>True</td>\n",
       "    </tr>\n",
       "    <tr>\n",
       "      <th>3514007</th>\n",
       "      <td>.</td>\n",
       "      <td></td>\n",
       "      <td>SCI LE 36</td>\n",
       "      <td>62041</td>\n",
       "      <td>22 RUE de la Coignée 62000 Arras</td>\n",
       "      <td>True</td>\n",
       "    </tr>\n",
       "    <tr>\n",
       "      <th>3513995</th>\n",
       "      <td>.</td>\n",
       "      <td></td>\n",
       "      <td>MB HOLDING</td>\n",
       "      <td>73008</td>\n",
       "      <td>21 BD maréchal de lattre de tassigny 73100 Aix...</td>\n",
       "      <td>True</td>\n",
       "    </tr>\n",
       "    <tr>\n",
       "      <th>4627473</th>\n",
       "      <td>.</td>\n",
       "      <td></td>\n",
       "      <td>AGIL'ART</td>\n",
       "      <td>93066</td>\n",
       "      <td>16 RUE de Choisy 93200 Saint-Denis</td>\n",
       "      <td>True</td>\n",
       "    </tr>\n",
       "  </tbody>\n",
       "</table>\n",
       "<p>501 rows × 6 columns</p>\n",
       "</div>"
      ],
      "text/plain": [
       "        codeApe           siret       nomCommercial codeInseeCommune  \\\n",
       "2327277       .  95325826600014    SCI La Belle Vie            44036   \n",
       "2327279       .  95325826600014    SCI La Belle Vie            44036   \n",
       "3517279  56.10C  94890329900014        HAPPY SELENE            15187   \n",
       "3517280       .  94890329900014        HAPPY SELENE            15014   \n",
       "3514948  46.39A  94832829900011               JBSAZ            97407   \n",
       "...         ...             ...                 ...              ...   \n",
       "3514013       .                  SCI ROMANDRA WEISS            59042   \n",
       "3514008       .                       FOREVER PARIS            92035   \n",
       "3514007       .                           SCI LE 36            62041   \n",
       "3513995       .                          MB HOLDING            73008   \n",
       "4627473       .                            AGIL'ART            93066   \n",
       "\n",
       "                                                   adresse  \\\n",
       "2327277         33 RUE Michel Grimault 44110 Châteaubriant   \n",
       "2327279         33 RUE Michel Grimault 44110 Châteaubriant   \n",
       "3517279                 6 AV Léon Bélard 15100 Saint-Flour   \n",
       "3517280                   1 RUE Sainte Anne 15000 Aurillac   \n",
       "3514948              31 RUE François de Mahy 97420 Le Port   \n",
       "...                                                    ...   \n",
       "3514013                      797 RTE Nationale 59830 Bachy   \n",
       "3514008  113 AV du General Leclerc 92250 La Garenne-Col...   \n",
       "3514007                   22 RUE de la Coignée 62000 Arras   \n",
       "3513995  21 BD maréchal de lattre de tassigny 73100 Aix...   \n",
       "4627473                 16 RUE de Choisy 93200 Saint-Denis   \n",
       "\n",
       "         diffusionCommerciale  \n",
       "2327277                  True  \n",
       "2327279                  True  \n",
       "3517279                  True  \n",
       "3517280                  True  \n",
       "3514948                  True  \n",
       "...                       ...  \n",
       "3514013                  True  \n",
       "3514008                  True  \n",
       "3514007                  True  \n",
       "3513995                  True  \n",
       "4627473                  True  \n",
       "\n",
       "[501 rows x 6 columns]"
      ]
     },
     "execution_count": 16,
     "metadata": {},
     "output_type": "execute_result"
    }
   ],
   "source": [
    "# get all duplicates of siret\n",
    "df_final[df_final.siret.duplicated(keep=False)].sort_values(by=\"siret\", ascending=False)"
   ]
  },
  {
   "cell_type": "markdown",
   "metadata": {},
   "source": [
    "Après vérification sur Pappers pour Happy selene [ici](https://www.pappers.fr/entreprise/happy-selene-948903299), les deux établissements ont le même siret.\n",
    "\n",
    "Au vu du faible  nombre de cas on peut ne pas s'en inquiéter.\n",
    "\n",
    "On va simplement changer le dtype"
   ]
  },
  {
   "cell_type": "code",
   "execution_count": 18,
   "metadata": {},
   "outputs": [],
   "source": [
    "df_final[\"siret\"] = df_final[\"siret\"].fillna(0).replace(\"\", 0).astype(int)"
   ]
  },
  {
   "cell_type": "code",
   "execution_count": 20,
   "metadata": {},
   "outputs": [],
   "source": [
    "df_final.to_parquet(\n",
    "    \"../data/Données nationales/RNE.parquet\", index=False, compression=\"gzip\"\n",
    ")"
   ]
  }
 ],
 "metadata": {
  "kernelspec": {
   "display_name": "venv_zone_de_chalandise",
   "language": "python",
   "name": "python3"
  },
  "language_info": {
   "codemirror_mode": {
    "name": "ipython",
    "version": 3
   },
   "file_extension": ".py",
   "mimetype": "text/x-python",
   "name": "python",
   "nbconvert_exporter": "python",
   "pygments_lexer": "ipython3",
   "version": "3.9.6"
  }
 },
 "nbformat": 4,
 "nbformat_minor": 2
}
