{
 "cells": [
  {
   "cell_type": "markdown",
   "metadata": {},
   "source": [
    "<div style=\"text-align: center;\">\n",
    "    <h1>Codes Nomenclature des Activités Françaises (NAF) </h1>\n",
    "</div>\n",
    "\n",
    "\n",
    "Le but de ce notebook est de télécharger une liste de code NAF.\n",
    "\n",
    "La NAF, nomenclature d'activités française, est une nomenclature des activités économiques productives, principalement élaborée pour faciliter l'organisation de l'information économique et sociale.\n",
    "\n",
    "Le code NAF (ou APE) est construit de la manière suivante :\n",
    "\n",
    "<p align=\"center\">\n",
    "  <img src=\"../img/codeape.png\" alt=\"imagemanquante\" width=\"30%\" />\n",
    "</p>\n",
    "\n",
    "\n",
    "\n",
    "Plus d'informations sur le site de l'[INSEE](https://www.insee.fr/fr/information/2406147).\n",
    "\n",
    "Il s'agit d'extraire de ces données les colonnes suivantes :\n",
    "\n",
    "- codeNAF : on prendra la version rev2 de la nomenclature\n",
    "- Intitule : intitulé du code NAF\n",
    "\n"
   ]
  },
  {
   "cell_type": "code",
   "execution_count": 6,
   "metadata": {},
   "outputs": [
    {
     "name": "stdout",
     "output_type": "stream",
     "text": [
      "\n",
      "\u001b[1m[\u001b[0m\u001b[34;49mnotice\u001b[0m\u001b[1;39;49m]\u001b[0m\u001b[39;49m A new release of pip is available: \u001b[0m\u001b[31;49m23.3.1\u001b[0m\u001b[39;49m -> \u001b[0m\u001b[32;49m23.3.2\u001b[0m\n",
      "\u001b[1m[\u001b[0m\u001b[34;49mnotice\u001b[0m\u001b[1;39;49m]\u001b[0m\u001b[39;49m To update, run: \u001b[0m\u001b[32;49mpip install --upgrade pip\u001b[0m\n"
     ]
    }
   ],
   "source": [
    "! pip install -q xlrd"
   ]
  },
  {
   "cell_type": "code",
   "execution_count": 7,
   "metadata": {},
   "outputs": [],
   "source": [
    "import os \n",
    "import pandas as pd \n",
    "import re\n",
    "import numpy as np"
   ]
  },
  {
   "cell_type": "markdown",
   "metadata": {},
   "source": [
    "# 1. Téléchargement des données\n",
    "\n",
    "\n",
    "Les codes Naf fournis par l'INSEE peuvent étre téléchargés sur [ce lien](https://www.insee.fr/fr/statistiques/fichier/2120875/int_courts_naf_rev_2.xls). \n"
   ]
  },
  {
   "cell_type": "code",
   "execution_count": 8,
   "metadata": {},
   "outputs": [
    {
     "data": {
      "text/plain": [
       "0"
      ]
     },
     "execution_count": 8,
     "metadata": {},
     "output_type": "execute_result"
    }
   ],
   "source": [
    "os.system(\"wget -q -P '../Données nationales/' https://www.insee.fr/fr/statistiques/fichier/2120875/int_courts_naf_rev_2.xls\")"
   ]
  },
  {
   "cell_type": "code",
   "execution_count": 9,
   "metadata": {},
   "outputs": [
    {
     "data": {
      "text/html": [
       "<div>\n",
       "<style scoped>\n",
       "    .dataframe tbody tr th:only-of-type {\n",
       "        vertical-align: middle;\n",
       "    }\n",
       "\n",
       "    .dataframe tbody tr th {\n",
       "        vertical-align: top;\n",
       "    }\n",
       "\n",
       "    .dataframe thead th {\n",
       "        text-align: right;\n",
       "    }\n",
       "</style>\n",
       "<table border=\"1\" class=\"dataframe\">\n",
       "  <thead>\n",
       "    <tr style=\"text-align: right;\">\n",
       "      <th></th>\n",
       "      <th>ligne</th>\n",
       "      <th>Code</th>\n",
       "      <th>Intitulés de la  NAF rév. 2, version finale</th>\n",
       "      <th>Intitulés NAF rév. 2, \\nen 65 caractères</th>\n",
       "      <th>Intitulés NAF rév. 2, \\nen 40 caractères</th>\n",
       "    </tr>\n",
       "  </thead>\n",
       "  <tbody>\n",
       "    <tr>\n",
       "      <th>0</th>\n",
       "      <td>1</td>\n",
       "      <td>NaN</td>\n",
       "      <td>NaN</td>\n",
       "      <td>NaN</td>\n",
       "      <td>NaN</td>\n",
       "    </tr>\n",
       "    <tr>\n",
       "      <th>1</th>\n",
       "      <td>2</td>\n",
       "      <td>SECTION A</td>\n",
       "      <td>AGRICULTURE, SYLVICULTURE ET PÊCHE</td>\n",
       "      <td>AGRICULTURE, SYLVICULTURE ET PÊCHE</td>\n",
       "      <td>AGRICULTURE, SYLVICULTURE ET PÊCHE</td>\n",
       "    </tr>\n",
       "    <tr>\n",
       "      <th>2</th>\n",
       "      <td>3</td>\n",
       "      <td>NaN</td>\n",
       "      <td>NaN</td>\n",
       "      <td>NaN</td>\n",
       "      <td>NaN</td>\n",
       "    </tr>\n",
       "    <tr>\n",
       "      <th>3</th>\n",
       "      <td>4</td>\n",
       "      <td>01</td>\n",
       "      <td>Culture et production animale, chasse et servi...</td>\n",
       "      <td>Culture et production animale, chasse et servi...</td>\n",
       "      <td>Cult. &amp; prod. animale, chasse &amp; sce ann.</td>\n",
       "    </tr>\n",
       "    <tr>\n",
       "      <th>4</th>\n",
       "      <td>5</td>\n",
       "      <td>NaN</td>\n",
       "      <td>NaN</td>\n",
       "      <td>NaN</td>\n",
       "      <td>NaN</td>\n",
       "    </tr>\n",
       "    <tr>\n",
       "      <th>...</th>\n",
       "      <td>...</td>\n",
       "      <td>...</td>\n",
       "      <td>...</td>\n",
       "      <td>...</td>\n",
       "      <td>...</td>\n",
       "    </tr>\n",
       "    <tr>\n",
       "      <th>2104</th>\n",
       "      <td>2105</td>\n",
       "      <td>99</td>\n",
       "      <td>Activités des organisations et organismes extr...</td>\n",
       "      <td>Activités des organisations et organismes extr...</td>\n",
       "      <td>Act. organisations extraterritoriales</td>\n",
       "    </tr>\n",
       "    <tr>\n",
       "      <th>2105</th>\n",
       "      <td>2106</td>\n",
       "      <td>NaN</td>\n",
       "      <td>NaN</td>\n",
       "      <td>NaN</td>\n",
       "      <td>NaN</td>\n",
       "    </tr>\n",
       "    <tr>\n",
       "      <th>2106</th>\n",
       "      <td>2107</td>\n",
       "      <td>99.0</td>\n",
       "      <td>Activités des organisations et organismes extr...</td>\n",
       "      <td>Activités des organisations et organismes extr...</td>\n",
       "      <td>Act. organisations extraterritoriales</td>\n",
       "    </tr>\n",
       "    <tr>\n",
       "      <th>2107</th>\n",
       "      <td>2108</td>\n",
       "      <td>99.00</td>\n",
       "      <td>Activités des organisations et organismes extr...</td>\n",
       "      <td>Activités des organisations et organismes extr...</td>\n",
       "      <td>Act. organisations extraterritoriales</td>\n",
       "    </tr>\n",
       "    <tr>\n",
       "      <th>2108</th>\n",
       "      <td>2109</td>\n",
       "      <td>99.00Z</td>\n",
       "      <td>Activités des organisations et organismes extr...</td>\n",
       "      <td>Activités des organisations et organismes extr...</td>\n",
       "      <td>Act. organisations extraterritoriales</td>\n",
       "    </tr>\n",
       "  </tbody>\n",
       "</table>\n",
       "<p>2109 rows × 5 columns</p>\n",
       "</div>"
      ],
      "text/plain": [
       "      ligne       Code       Intitulés de la  NAF rév. 2, version finale   \\\n",
       "0         1        NaN                                                NaN   \n",
       "1         2  SECTION A                 AGRICULTURE, SYLVICULTURE ET PÊCHE   \n",
       "2         3        NaN                                                NaN   \n",
       "3         4         01  Culture et production animale, chasse et servi...   \n",
       "4         5        NaN                                                NaN   \n",
       "...     ...        ...                                                ...   \n",
       "2104   2105         99  Activités des organisations et organismes extr...   \n",
       "2105   2106        NaN                                                NaN   \n",
       "2106   2107       99.0  Activités des organisations et organismes extr...   \n",
       "2107   2108      99.00  Activités des organisations et organismes extr...   \n",
       "2108   2109     99.00Z  Activités des organisations et organismes extr...   \n",
       "\n",
       "               Intitulés NAF rév. 2, \\nen 65 caractères  \\\n",
       "0                                                   NaN   \n",
       "1                    AGRICULTURE, SYLVICULTURE ET PÊCHE   \n",
       "2                                                   NaN   \n",
       "3     Culture et production animale, chasse et servi...   \n",
       "4                                                   NaN   \n",
       "...                                                 ...   \n",
       "2104  Activités des organisations et organismes extr...   \n",
       "2105                                                NaN   \n",
       "2106  Activités des organisations et organismes extr...   \n",
       "2107  Activités des organisations et organismes extr...   \n",
       "2108  Activités des organisations et organismes extr...   \n",
       "\n",
       "      Intitulés NAF rév. 2, \\nen 40 caractères  \n",
       "0                                          NaN  \n",
       "1           AGRICULTURE, SYLVICULTURE ET PÊCHE  \n",
       "2                                          NaN  \n",
       "3     Cult. & prod. animale, chasse & sce ann.  \n",
       "4                                          NaN  \n",
       "...                                        ...  \n",
       "2104     Act. organisations extraterritoriales  \n",
       "2105                                       NaN  \n",
       "2106     Act. organisations extraterritoriales  \n",
       "2107     Act. organisations extraterritoriales  \n",
       "2108     Act. organisations extraterritoriales  \n",
       "\n",
       "[2109 rows x 5 columns]"
      ]
     },
     "execution_count": 9,
     "metadata": {},
     "output_type": "execute_result"
    }
   ],
   "source": [
    "file_path = \"../Données nationales/int_courts_naf_rev_2.xls\"\n",
    "\n",
    "df = pd.read_excel(file_path)\n",
    "\n",
    "df"
   ]
  },
  {
   "cell_type": "markdown",
   "metadata": {},
   "source": [
    "# 2. Nettoyage des données"
   ]
  },
  {
   "cell_type": "markdown",
   "metadata": {},
   "source": [
    "Dans la colonne 'Code', toutes les mailles sont présentes (Division / Classe et sous Classe).\n",
    "\n",
    "On ne garde que la maille la plus fine de ce découpage, c'est-à-dire les codes de la forme \"99.00Z\"."
   ]
  },
  {
   "cell_type": "code",
   "execution_count": 10,
   "metadata": {},
   "outputs": [],
   "source": [
    "# function to match the pattern\n",
    "def match(string):\n",
    "    return bool(re.match(r\"\\d{2}\\.\\d{2}[A-Z]\", string))\n",
    "\n",
    "#converts Code to string\n",
    "df[\"Code\"] = df[\"Code\"].astype(str)\n",
    "\n",
    "#apply the function to the column\n",
    "df[\"match\"] = df[\"Code\"].apply(match)\n",
    "\n",
    "#filter the dataframe\n",
    "df = df[df[\"match\"] == True]\n"
   ]
  },
  {
   "cell_type": "code",
   "execution_count": 11,
   "metadata": {},
   "outputs": [
    {
     "data": {
      "text/plain": [
       "Index(['ligne', 'Code', ' Intitulés de la  NAF rév. 2, version finale ',\n",
       "       'Intitulés NAF rév. 2, \\nen 65 caractères',\n",
       "       'Intitulés NAF rév. 2, \\nen 40 caractères', 'match'],\n",
       "      dtype='object')"
      ]
     },
     "execution_count": 11,
     "metadata": {},
     "output_type": "execute_result"
    }
   ],
   "source": [
    "df.columns"
   ]
  },
  {
   "cell_type": "markdown",
   "metadata": {},
   "source": [
    "## Sélection des variables d'intérêt\n",
    "\n",
    "On veut garder :\n",
    "- codeNaf \n",
    "- libelle"
   ]
  },
  {
   "cell_type": "code",
   "execution_count": 12,
   "metadata": {},
   "outputs": [],
   "source": [
    "df = df[df.columns[1:3]]"
   ]
  },
  {
   "cell_type": "markdown",
   "metadata": {},
   "source": [
    "## Sauvegarde du fichier"
   ]
  },
  {
   "cell_type": "code",
   "execution_count": 13,
   "metadata": {},
   "outputs": [],
   "source": [
    "df.columns = ['codeNaf','libelleNaf']\n",
    "\n",
    "df.to_parquet(\"../Données nationales/NAF.parquet\", index=False)"
   ]
  },
  {
   "cell_type": "markdown",
   "metadata": {},
   "source": [
    "# 3. Constitution d'un sous-groupe de code NAF utile pour FoodBiome\n",
    "\n",
    "La nomenclature NAF recouvre un grand nombre de secteurs, pour notre application seulement une partie sera utile.\n",
    "\n",
    "On sélectionne à la main ceux dont on pense qu'ils peuvent être utiles.\n",
    "\n",
    "- Le [premier document](../Données%20nationales/NAF_FoodBiome.xlsx) correspond à un premier filtre fait par votre serviteur.\n",
    "- Le [second document](../Données%20nationales/NAF_FoodBiome_a_modifier.xlsx) est une liste de tous les codes NAF et peut-être modifié par n'importe qui.\n",
    "\n",
    "*Pour le modifier je suggère de :\n",
    "- dupliquer le fichier \"NAF_FoodBiome_a_modifier.xslx\"\n",
    "- ouvrir le fichier dupliqué\n",
    "- enlever les lignes inutiles\n",
    "- renommer le fichier \"NAF_FoodBiome.xlsx\""
   ]
  },
  {
   "cell_type": "code",
   "execution_count": 15,
   "metadata": {},
   "outputs": [],
   "source": [
    "df.to_excel(\"../Données nationales/NAF_FoodBiome.xlsx\", index=False)\n",
    "df.to_excel(\"../Données nationales/NAF_FoodBiome_a_modifier.xlsx\", index=False)"
   ]
  }
 ],
 "metadata": {
  "kernelspec": {
   "display_name": "venv_zone_de_chalandise",
   "language": "python",
   "name": "python3"
  },
  "language_info": {
   "codemirror_mode": {
    "name": "ipython",
    "version": 3
   },
   "file_extension": ".py",
   "mimetype": "text/x-python",
   "name": "python",
   "nbconvert_exporter": "python",
   "pygments_lexer": "ipython3",
   "version": "3.9.6"
  }
 },
 "nbformat": 4,
 "nbformat_minor": 2
}
