{
 "cells": [
  {
   "cell_type": "markdown",
   "metadata": {},
   "source": [
    "<div style=\"text-align: center;\">\n",
    "    <h1>Géolocalisation des entreprises de la base Sirene</h1>\n",
    "</div>\n",
    "\n",
    "\n",
    "\n",
    "Pour l'instant, les entreprises sont localisées par leur codeCommuneInsee, on les situe donc soit au milieu de la commune soit sur un point aléatoire dans la commune. On va tenter d'affiner cette localisation.\n",
    "\n",
    "## 1. En enlevant les entreprises situées outre mer\n",
    "\n",
    "## 2. En assignant à chaque entreprise une position (lat,lon) la plus fiable possible\n",
    "\n",
    "\n",
    "Pour cela on va utiliser le dataset [*Géolocalisation des établissements du répertoire SIRENE-pour les études statistiques*](https://www.data.gouv.fr/fr/datasets/geolocalisation-des-etablissements-du-repertoire-sirene-pour-les-etudes-statistiques/#/resources) proposé par l'INSEE. Il propose une localisation (lat,lon) pour chaque entreprise avec différents niveaux de confiance. La documentation relative à ce jeu de données est disponible [ici](https://www.data.gouv.fr/fr/datasets/r/9f6c2157-3c89-4e8d-8473-9894348c84cb).\n",
    "\n",
    "\n",
    "\n",
    "**L'objectif de ce notebook est d'ajouter une localisation à chaque établissement** du fichier d'entreprises que l'on a constitué ('./Données nationales/RegistreNationalEtablissementsActifsRneSirene.parquet).\n",
    "\n",
    "\n",
    "On prend le parti pris suivant pour la suite : **Une entreprise sera décomptée si au moins une partie de la commune dans laquelle elle se situe est dans la zone de chalandise**.\n",
    "La localisation de l'entreprise telle qu'on la considère ici n'est donc *pas un moyen de filtrer les entreprises* mais plutôt de donner des informations supplémentaires.\n",
    "\n",
    "Ces informations seront ajoutées au fichier de base qui contiendra donc les variable suivantes :\n",
    "\n",
    "- siret\n",
    "- nomCommercial \n",
    "- adresseEtablissement : l'adresse en toute lettre\n",
    "- codeInseecommune\n",
    "- codeApe\n",
    "- diffusionCommerciale\n",
    "- localisation : (lat,lon) ou \"nan\"\n",
    "\n"
   ]
  },
  {
   "cell_type": "code",
   "execution_count": 1,
   "metadata": {},
   "outputs": [
    {
     "name": "stderr",
     "output_type": "stream",
     "text": [
      "/Users/basiledesjuzeur/Documents/Cartographie/venv_zone_de_chalandise/lib/python3.9/site-packages/urllib3/__init__.py:34: NotOpenSSLWarning: urllib3 v2 only supports OpenSSL 1.1.1+, currently the 'ssl' module is compiled with 'LibreSSL 2.8.3'. See: https://github.com/urllib3/urllib3/issues/3020\n",
      "  warnings.warn(\n"
     ]
    }
   ],
   "source": [
    "import pandas as pd \n",
    "import folium \n",
    "import numpy as np\n",
    "import geopandas as gpd\n",
    "import random\n",
    "from shapely.geometry import Point, Polygon\n",
    "from tqdm.notebook import tqdm\n"
   ]
  },
  {
   "cell_type": "markdown",
   "metadata": {},
   "source": [
    "# 1. Téléchargement et lecture du fichier"
   ]
  },
  {
   "cell_type": "code",
   "execution_count": 49,
   "metadata": {},
   "outputs": [
    {
     "name": "stdout",
     "output_type": "stream",
     "text": [
      "CPU times: user 28.8 s, sys: 2.05 s, total: 30.8 s\n",
      "Wall time: 1min 22s\n"
     ]
    }
   ],
   "source": [
    "%%time \n",
    "\n",
    "# paramètres\n",
    "url = \"https://www.data.gouv.fr/fr/datasets/r/ba6a4e4c-aac6-4764-bbd2-f80ae345afc5\"\n",
    "id_doc = url.split('/')[-1]\n",
    "usecols = [\"siret\",\"qualite_xy\",\"x_longitude\",\"y_latitude\"]\n",
    "dtypes = {\"siret\":np.int64,\"qualite_xy\":np.int8,\"x_longitude\":np.float64,\"y_latitude\":np.float64}\n",
    "\n",
    "\n",
    "df = pd.read_csv(url,compression='zip',sep=';',usecols=usecols,dtype=dtypes)"
   ]
  },
  {
   "cell_type": "code",
   "execution_count": 50,
   "metadata": {},
   "outputs": [
    {
     "name": "stdout",
     "output_type": "stream",
     "text": [
      "<class 'pandas.core.frame.DataFrame'>\n",
      "RangeIndex: 34513137 entries, 0 to 34513136\n",
      "Data columns (total 4 columns):\n",
      " #   Column       Dtype  \n",
      "---  ------       -----  \n",
      " 0   siret        int64  \n",
      " 1   qualite_xy   int8   \n",
      " 2   y_latitude   float64\n",
      " 3   x_longitude  float64\n",
      "dtypes: float64(2), int64(1), int8(1)\n",
      "memory usage: 822.9 MB\n"
     ]
    }
   ],
   "source": [
    "df.info()"
   ]
  },
  {
   "cell_type": "markdown",
   "metadata": {},
   "source": [
    "# 2. Jointure avec le fichier Registre"
   ]
  },
  {
   "cell_type": "code",
   "execution_count": 51,
   "metadata": {},
   "outputs": [],
   "source": [
    "# paramètres\n",
    "path = \"../Données nationales/RegistreNationalEtablissementsActifsRneSirene.parquet\"\n",
    "cols = ['siret', 'nomCommercial', 'adresseEtablissement', 'codeInseecommune',\n",
    "       'codeApe', 'diffusionCommerciale']\n",
    "dtypes = {'siret':np.int64,'nomCommercial':str,'adresseEtablissement':str,'codeInseecommune':str,\n",
    "          'diffusionCommerciale':bool,'codeApe':str}\n",
    "\n",
    "df_reg = pd.read_parquet(\"../Données nationales/RegistreNationalEtablissementsActifsRneSirene.parquet\")\n",
    "\n",
    "# fill na with 0 in numeric columns\n",
    "df_reg = df_reg.fillna(0)\n",
    "\n",
    "# change dtype\n",
    "df_reg = df_reg.astype(dtypes)\n"
   ]
  },
  {
   "cell_type": "markdown",
   "metadata": {},
   "source": [
    "Quelques infos avant de faire la jointure"
   ]
  },
  {
   "cell_type": "code",
   "execution_count": 52,
   "metadata": {},
   "outputs": [
    {
     "name": "stdout",
     "output_type": "stream",
     "text": [
      "Nombre d'entreprises localisées dans le fichier de l'insee : 34,513,137\n",
      "Nombre d'entreprises nationales dans le fichier concaténé : 18,319,399\n"
     ]
    }
   ],
   "source": [
    "nb_entreprises_loca = df.shape[0]\n",
    "nb_entreprises_nation = df_reg.shape[0]\n",
    "\n",
    "print(\"Nombre d'entreprises localisées dans le fichier de l'insee : {:,}\".format(nb_entreprises_loca))\n",
    "print(\"Nombre d'entreprises nationales dans le fichier concaténé : {:,}\".format(nb_entreprises_nation))"
   ]
  },
  {
   "cell_type": "markdown",
   "metadata": {},
   "source": [
    "Pourquoi ce nombre ? (*de prime abord il devrait y avoir plus d'établissements dans le fichier concaténé aka. le registre*)\n",
    "\n",
    "- La base Sirene que nous avions téléchargé faisait 37 768 658 lignes , mais seulement 15 millions d'établissements actifs"
   ]
  },
  {
   "cell_type": "code",
   "execution_count": 53,
   "metadata": {},
   "outputs": [
    {
     "name": "stdout",
     "output_type": "stream",
     "text": [
      "Nombre d'entreprises localisées dans le fichier de l'insee et dans le fichier concaténé : 16,630,088\n",
      "Nombre d'entreprises localisées dans le fichier de l'insee mais pas dans le fichier concaténé : 17,883,049\n",
      "Nombre d'entreprises dans le fichier concaténé mais pas dans le fichier de l'insee : 1,689,311\n"
     ]
    }
   ],
   "source": [
    "\n",
    "nb_in_df_and_reg = df.siret.isin(df_reg.siret).sum()\n",
    "nb_in_reg_not_df = df_reg.siret[~df_reg.siret.isin(df.siret)].count()\n",
    "nb_in_df_not_reg = df.siret[~df.siret.isin(df_reg.siret)].count()\n",
    "\n",
    "print(\"Nombre d'entreprises localisées dans le fichier de l'insee et dans le fichier concaténé : {:,}\".format(nb_in_df_and_reg))\n",
    "print(\"Nombre d'entreprises localisées dans le fichier de l'insee mais pas dans le fichier concaténé : {:,}\".format(nb_in_df_not_reg))\n",
    "print(\"Nombre d'entreprises dans le fichier concaténé mais pas dans le fichier de l'insee : {:,}\".format(nb_in_reg_not_df))"
   ]
  },
  {
   "cell_type": "markdown",
   "metadata": {},
   "source": [
    "Jointure des deux dataframes"
   ]
  },
  {
   "cell_type": "code",
   "execution_count": 54,
   "metadata": {},
   "outputs": [],
   "source": [
    "join = pd.merge(df,df_reg,how='right',on='siret').reset_index(drop=True)"
   ]
  },
  {
   "cell_type": "markdown",
   "metadata": {},
   "source": [
    "On alège la mémoire en enlevant les dataframes inutilisées"
   ]
  },
  {
   "cell_type": "code",
   "execution_count": 55,
   "metadata": {},
   "outputs": [],
   "source": [
    "del df\n",
    "del df_reg"
   ]
  },
  {
   "cell_type": "markdown",
   "metadata": {},
   "source": [
    "# 3. Suppression des entreprises hors de France métropolitaine\n",
    "\n",
    "\n",
    "On part de la liste des codes communes des communes des outre-mer fournie par l'INSEE [ici](https://www.insee.fr/fr/information/6800675)."
   ]
  },
  {
   "cell_type": "code",
   "execution_count": 56,
   "metadata": {},
   "outputs": [
    {
     "data": {
      "text/html": [
       "<div>\n",
       "<style scoped>\n",
       "    .dataframe tbody tr th:only-of-type {\n",
       "        vertical-align: middle;\n",
       "    }\n",
       "\n",
       "    .dataframe tbody tr th {\n",
       "        vertical-align: top;\n",
       "    }\n",
       "\n",
       "    .dataframe thead th {\n",
       "        text-align: right;\n",
       "    }\n",
       "</style>\n",
       "<table border=\"1\" class=\"dataframe\">\n",
       "  <thead>\n",
       "    <tr style=\"text-align: right;\">\n",
       "      <th></th>\n",
       "      <th>COM_COMER</th>\n",
       "      <th>TNCC</th>\n",
       "      <th>NCC</th>\n",
       "      <th>NCCENR</th>\n",
       "      <th>LIBELLE</th>\n",
       "      <th>NATURE_ZONAGE</th>\n",
       "      <th>COMER</th>\n",
       "      <th>LIBELLE_COMER</th>\n",
       "    </tr>\n",
       "  </thead>\n",
       "  <tbody>\n",
       "    <tr>\n",
       "      <th>0</th>\n",
       "      <td>97501</td>\n",
       "      <td>0</td>\n",
       "      <td>MIQUELON LANGLADE</td>\n",
       "      <td>Miquelon-Langlade</td>\n",
       "      <td>Miquelon-Langlade</td>\n",
       "      <td>COM</td>\n",
       "      <td>975</td>\n",
       "      <td>Saint-Pierre-et-Miquelon</td>\n",
       "    </tr>\n",
       "    <tr>\n",
       "      <th>1</th>\n",
       "      <td>97502</td>\n",
       "      <td>0</td>\n",
       "      <td>SAINT PIERRE</td>\n",
       "      <td>Saint-Pierre</td>\n",
       "      <td>Saint-Pierre</td>\n",
       "      <td>COM</td>\n",
       "      <td>975</td>\n",
       "      <td>Saint-Pierre-et-Miquelon</td>\n",
       "    </tr>\n",
       "    <tr>\n",
       "      <th>2</th>\n",
       "      <td>97701</td>\n",
       "      <td>0</td>\n",
       "      <td>SAINT BARTHELEMY</td>\n",
       "      <td>Saint-Barthélemy</td>\n",
       "      <td>Saint-Barthélemy</td>\n",
       "      <td>COM</td>\n",
       "      <td>977</td>\n",
       "      <td>Saint-Barthélemy</td>\n",
       "    </tr>\n",
       "    <tr>\n",
       "      <th>3</th>\n",
       "      <td>97801</td>\n",
       "      <td>0</td>\n",
       "      <td>SAINT MARTIN</td>\n",
       "      <td>Saint-Martin</td>\n",
       "      <td>Saint-Martin</td>\n",
       "      <td>COM</td>\n",
       "      <td>978</td>\n",
       "      <td>Saint-Martin</td>\n",
       "    </tr>\n",
       "    <tr>\n",
       "      <th>4</th>\n",
       "      <td>98411</td>\n",
       "      <td>4</td>\n",
       "      <td>ILES SAINT PAUL ET AMSTERDAM</td>\n",
       "      <td>Îles Saint-Paul et Amsterdam</td>\n",
       "      <td>Îles Saint-Paul et Amsterdam</td>\n",
       "      <td>DIS</td>\n",
       "      <td>984</td>\n",
       "      <td>Terres australes et antarctiques françaises</td>\n",
       "    </tr>\n",
       "    <tr>\n",
       "      <th>...</th>\n",
       "      <td>...</td>\n",
       "      <td>...</td>\n",
       "      <td>...</td>\n",
       "      <td>...</td>\n",
       "      <td>...</td>\n",
       "      <td>...</td>\n",
       "      <td>...</td>\n",
       "      <td>...</td>\n",
       "    </tr>\n",
       "    <tr>\n",
       "      <th>89</th>\n",
       "      <td>98830</td>\n",
       "      <td>0</td>\n",
       "      <td>TOUHO</td>\n",
       "      <td>Touho</td>\n",
       "      <td>Touho</td>\n",
       "      <td>COM</td>\n",
       "      <td>988</td>\n",
       "      <td>Nouvelle-Calédonie</td>\n",
       "    </tr>\n",
       "    <tr>\n",
       "      <th>90</th>\n",
       "      <td>98831</td>\n",
       "      <td>0</td>\n",
       "      <td>VOH</td>\n",
       "      <td>Voh</td>\n",
       "      <td>Voh</td>\n",
       "      <td>COM</td>\n",
       "      <td>988</td>\n",
       "      <td>Nouvelle-Calédonie</td>\n",
       "    </tr>\n",
       "    <tr>\n",
       "      <th>91</th>\n",
       "      <td>98832</td>\n",
       "      <td>0</td>\n",
       "      <td>YATE</td>\n",
       "      <td>Yaté</td>\n",
       "      <td>Yaté</td>\n",
       "      <td>COM</td>\n",
       "      <td>988</td>\n",
       "      <td>Nouvelle-Calédonie</td>\n",
       "    </tr>\n",
       "    <tr>\n",
       "      <th>92</th>\n",
       "      <td>98833</td>\n",
       "      <td>0</td>\n",
       "      <td>KOUAOUA</td>\n",
       "      <td>Kouaoua</td>\n",
       "      <td>Kouaoua</td>\n",
       "      <td>COM</td>\n",
       "      <td>988</td>\n",
       "      <td>Nouvelle-Calédonie</td>\n",
       "    </tr>\n",
       "    <tr>\n",
       "      <th>93</th>\n",
       "      <td>98901</td>\n",
       "      <td>0</td>\n",
       "      <td>LA PASSION CLIPPERTON</td>\n",
       "      <td>La Passion-Clipperton</td>\n",
       "      <td>La Passion-Clipperton</td>\n",
       "      <td>CPT</td>\n",
       "      <td>989</td>\n",
       "      <td>La Passion-Clipperton</td>\n",
       "    </tr>\n",
       "  </tbody>\n",
       "</table>\n",
       "<p>94 rows × 8 columns</p>\n",
       "</div>"
      ],
      "text/plain": [
       "    COM_COMER  TNCC                           NCC  \\\n",
       "0       97501     0             MIQUELON LANGLADE   \n",
       "1       97502     0                  SAINT PIERRE   \n",
       "2       97701     0              SAINT BARTHELEMY   \n",
       "3       97801     0                  SAINT MARTIN   \n",
       "4       98411     4  ILES SAINT PAUL ET AMSTERDAM   \n",
       "..        ...   ...                           ...   \n",
       "89      98830     0                         TOUHO   \n",
       "90      98831     0                           VOH   \n",
       "91      98832     0                          YATE   \n",
       "92      98833     0                       KOUAOUA   \n",
       "93      98901     0         LA PASSION CLIPPERTON   \n",
       "\n",
       "                          NCCENR                       LIBELLE NATURE_ZONAGE  \\\n",
       "0              Miquelon-Langlade             Miquelon-Langlade           COM   \n",
       "1                   Saint-Pierre                  Saint-Pierre           COM   \n",
       "2               Saint-Barthélemy              Saint-Barthélemy           COM   \n",
       "3                   Saint-Martin                  Saint-Martin           COM   \n",
       "4   Îles Saint-Paul et Amsterdam  Îles Saint-Paul et Amsterdam           DIS   \n",
       "..                           ...                           ...           ...   \n",
       "89                         Touho                         Touho           COM   \n",
       "90                           Voh                           Voh           COM   \n",
       "91                          Yaté                          Yaté           COM   \n",
       "92                       Kouaoua                       Kouaoua           COM   \n",
       "93         La Passion-Clipperton         La Passion-Clipperton           CPT   \n",
       "\n",
       "    COMER                                LIBELLE_COMER  \n",
       "0     975                     Saint-Pierre-et-Miquelon  \n",
       "1     975                     Saint-Pierre-et-Miquelon  \n",
       "2     977                             Saint-Barthélemy  \n",
       "3     978                                 Saint-Martin  \n",
       "4     984  Terres australes et antarctiques françaises  \n",
       "..    ...                                          ...  \n",
       "89    988                           Nouvelle-Calédonie  \n",
       "90    988                           Nouvelle-Calédonie  \n",
       "91    988                           Nouvelle-Calédonie  \n",
       "92    988                           Nouvelle-Calédonie  \n",
       "93    989                        La Passion-Clipperton  \n",
       "\n",
       "[94 rows x 8 columns]"
      ]
     },
     "execution_count": 56,
     "metadata": {},
     "output_type": "execute_result"
    }
   ],
   "source": [
    "url = \"https://www.insee.fr/fr/statistiques/fichier/6800675/v_commune_comer_2023.csv\"\n",
    "\n",
    "df_communes = pd.read_csv(url,sep=',')\n",
    "\n",
    "\n",
    "df_communes"
   ]
  },
  {
   "cell_type": "markdown",
   "metadata": {},
   "source": [
    "Quels sont les départements concernés ?"
   ]
  },
  {
   "cell_type": "code",
   "execution_count": 57,
   "metadata": {},
   "outputs": [
    {
     "name": "stdout",
     "output_type": "stream",
     "text": [
      "Nombre de départements concernés : 2\n",
      "Liste des départements concernés : {'98', '97'}\n"
     ]
    }
   ],
   "source": [
    "list = join[join.codeInseecommune.isin(df_communes[\"COM_COMER\"].astype(str))].codeInseecommune.unique()\n",
    "\n",
    "list = [str(x)[:2] for x in list]\n",
    "\n",
    "list = set(list)\n",
    "\n",
    "print(\"Nombre de départements concernés : {}\".format(len(list)))\n",
    "print(\"Liste des départements concernés : {}\".format(list))"
   ]
  },
  {
   "cell_type": "code",
   "execution_count": 58,
   "metadata": {},
   "outputs": [],
   "source": [
    "# on ne garde que les communes qui ne sont pas dans les DOM-TOM (pas dans la liste list)\n",
    "\n",
    "join = join[~join.codeInseecommune.astype(str).str[:2].isin(list)].reset_index(drop=True)"
   ]
  },
  {
   "cell_type": "markdown",
   "metadata": {},
   "source": [
    "Sauvegarde du fichier"
   ]
  },
  {
   "cell_type": "code",
   "execution_count": 67,
   "metadata": {},
   "outputs": [],
   "source": [
    "join.to_parquet(\"../Données nationales/RegistreNationalEtablissementsActifsRneSirene.parquet\")"
   ]
  },
  {
   "cell_type": "markdown",
   "metadata": {},
   "source": [
    "# 4. Complétion des données de localisation manquantes\n",
    "\n",
    "Comme dit lors de l'introduction, on a envie de pouvoir signaler à l'utilisateur final que l'adresse n'est pas sure.\n",
    "\n",
    "On va donc donner un indice de confiance plus lisible avec la correspondance suivantes (**voir documentation officielle INSEE**):\n",
    "\n",
    "| Code | Type de Voie      | Détails                                    | Score |\n",
    "|------|-------------------|--------------------------------------------|-------|\n",
    "| 11    | Voie Sûre         | Numéro trouvé                               | 5     |\n",
    "| 12   | Voie Sûre         | Position aléatoire dans la voie             | 4     |\n",
    "| 21   | Voie probable     | Numéro trouvé                               | 3     |\n",
    "| 22   | Voie probable     | Position aléatoire dans la voie             | 2     |\n",
    "| 33   | Voie inconnue      | Position aléatoire dans la commune          | 1     |\n",
    "| NaN  | Inconnu            | Position non renseignée dans le document de l'INSEE, localisation aléatoire dans la commune | 0   |\n",
    "\n"
   ]
  },
  {
   "cell_type": "code",
   "execution_count": 59,
   "metadata": {},
   "outputs": [],
   "source": [
    "# change confiance\n",
    "def give_confidence_score(x):\n",
    "    \n",
    "    correspondance = {11:5,12:4,21:3,22:2,33:1,0:0}\n",
    "\n",
    "    return correspondance[x]\n",
    "\n",
    "join.fillna(0,inplace=True)\n",
    "join['confiance'] = join.qualite_xy.apply(give_confidence_score)\n"
   ]
  },
  {
   "cell_type": "markdown",
   "metadata": {},
   "source": [
    "\n",
    "Pour les établissments qui correspondent au dernier cas de figure (position non renseignée dans le document de l'INSEE on attribue une position aléatoire dans la commune).\n",
    "\n",
    "Pour cela on va s'aider du document 'populationLocalisationCommunes.parquet' constitué dans [ce notebook](../Notebooks/5.%20Localisation%20des%20communes.ipynb).\n",
    "\n"
   ]
  },
  {
   "cell_type": "code",
   "execution_count": 60,
   "metadata": {},
   "outputs": [],
   "source": [
    "df_loc = gpd.read_parquet(\"../Données nationales/populationLocalisationCommunes.parquet\")"
   ]
  },
  {
   "cell_type": "markdown",
   "metadata": {},
   "source": [
    "On crée une fonction qui donne une position aléatoire dans une commune"
   ]
  },
  {
   "cell_type": "code",
   "execution_count": 44,
   "metadata": {},
   "outputs": [
    {
     "data": {
      "text/html": [
       "<div style=\"width:100%;\"><div style=\"position:relative;width:100%;height:0;padding-bottom:60%;\"><span style=\"color:#565656\">Make this Notebook Trusted to load map: File -> Trust Notebook</span><iframe srcdoc=\"&lt;!DOCTYPE html&gt;\n",
       "&lt;html&gt;\n",
       "&lt;head&gt;\n",
       "    \n",
       "    &lt;meta http-equiv=&quot;content-type&quot; content=&quot;text/html; charset=UTF-8&quot; /&gt;\n",
       "    \n",
       "        &lt;script&gt;\n",
       "            L_NO_TOUCH = false;\n",
       "            L_DISABLE_3D = false;\n",
       "        &lt;/script&gt;\n",
       "    \n",
       "    &lt;style&gt;html, body {width: 100%;height: 100%;margin: 0;padding: 0;}&lt;/style&gt;\n",
       "    &lt;style&gt;#map {position:absolute;top:0;bottom:0;right:0;left:0;}&lt;/style&gt;\n",
       "    &lt;script src=&quot;https://cdn.jsdelivr.net/npm/leaflet@1.9.3/dist/leaflet.js&quot;&gt;&lt;/script&gt;\n",
       "    &lt;script src=&quot;https://code.jquery.com/jquery-3.7.1.min.js&quot;&gt;&lt;/script&gt;\n",
       "    &lt;script src=&quot;https://cdn.jsdelivr.net/npm/bootstrap@5.2.2/dist/js/bootstrap.bundle.min.js&quot;&gt;&lt;/script&gt;\n",
       "    &lt;script src=&quot;https://cdnjs.cloudflare.com/ajax/libs/Leaflet.awesome-markers/2.0.2/leaflet.awesome-markers.js&quot;&gt;&lt;/script&gt;\n",
       "    &lt;link rel=&quot;stylesheet&quot; href=&quot;https://cdn.jsdelivr.net/npm/leaflet@1.9.3/dist/leaflet.css&quot;/&gt;\n",
       "    &lt;link rel=&quot;stylesheet&quot; href=&quot;https://cdn.jsdelivr.net/npm/bootstrap@5.2.2/dist/css/bootstrap.min.css&quot;/&gt;\n",
       "    &lt;link rel=&quot;stylesheet&quot; href=&quot;https://netdna.bootstrapcdn.com/bootstrap/3.0.0/css/bootstrap.min.css&quot;/&gt;\n",
       "    &lt;link rel=&quot;stylesheet&quot; href=&quot;https://cdn.jsdelivr.net/npm/@fortawesome/fontawesome-free@6.2.0/css/all.min.css&quot;/&gt;\n",
       "    &lt;link rel=&quot;stylesheet&quot; href=&quot;https://cdnjs.cloudflare.com/ajax/libs/Leaflet.awesome-markers/2.0.2/leaflet.awesome-markers.css&quot;/&gt;\n",
       "    &lt;link rel=&quot;stylesheet&quot; href=&quot;https://cdn.jsdelivr.net/gh/python-visualization/folium/folium/templates/leaflet.awesome.rotate.min.css&quot;/&gt;\n",
       "    \n",
       "            &lt;meta name=&quot;viewport&quot; content=&quot;width=device-width,\n",
       "                initial-scale=1.0, maximum-scale=1.0, user-scalable=no&quot; /&gt;\n",
       "            &lt;style&gt;\n",
       "                #map_724dc75de281192ef05b15f7daec257c {\n",
       "                    position: relative;\n",
       "                    width: 100.0%;\n",
       "                    height: 100.0%;\n",
       "                    left: 0.0%;\n",
       "                    top: 0.0%;\n",
       "                }\n",
       "                .leaflet-container { font-size: 1rem; }\n",
       "            &lt;/style&gt;\n",
       "        \n",
       "&lt;/head&gt;\n",
       "&lt;body&gt;\n",
       "    \n",
       "    \n",
       "            &lt;div class=&quot;folium-map&quot; id=&quot;map_724dc75de281192ef05b15f7daec257c&quot; &gt;&lt;/div&gt;\n",
       "        \n",
       "&lt;/body&gt;\n",
       "&lt;script&gt;\n",
       "    \n",
       "    \n",
       "            var map_724dc75de281192ef05b15f7daec257c = L.map(\n",
       "                &quot;map_724dc75de281192ef05b15f7daec257c&quot;,\n",
       "                {\n",
       "                    center: [48.856578, 2.351828],\n",
       "                    crs: L.CRS.EPSG3857,\n",
       "                    zoom: 12,\n",
       "                    zoomControl: true,\n",
       "                    preferCanvas: false,\n",
       "                }\n",
       "            );\n",
       "\n",
       "            \n",
       "\n",
       "        \n",
       "    \n",
       "            var tile_layer_4eb76a4f20aaf2fda1b5cfd65cf542ad = L.tileLayer(\n",
       "                &quot;https://tile.openstreetmap.org/{z}/{x}/{y}.png&quot;,\n",
       "                {&quot;attribution&quot;: &quot;\\u0026copy; \\u003ca href=\\&quot;https://www.openstreetmap.org/copyright\\&quot;\\u003eOpenStreetMap\\u003c/a\\u003e contributors&quot;, &quot;detectRetina&quot;: false, &quot;maxNativeZoom&quot;: 19, &quot;maxZoom&quot;: 19, &quot;minZoom&quot;: 0, &quot;noWrap&quot;: false, &quot;opacity&quot;: 1, &quot;subdomains&quot;: &quot;abc&quot;, &quot;tms&quot;: false}\n",
       "            );\n",
       "        \n",
       "    \n",
       "            tile_layer_4eb76a4f20aaf2fda1b5cfd65cf542ad.addTo(map_724dc75de281192ef05b15f7daec257c);\n",
       "        \n",
       "    \n",
       "\n",
       "        function geo_json_f27b79c5e7358e11920839823deec724_onEachFeature(feature, layer) {\n",
       "            layer.on({\n",
       "            });\n",
       "        };\n",
       "        var geo_json_f27b79c5e7358e11920839823deec724 = L.geoJson(null, {\n",
       "                onEachFeature: geo_json_f27b79c5e7358e11920839823deec724_onEachFeature,\n",
       "            \n",
       "        });\n",
       "\n",
       "        function geo_json_f27b79c5e7358e11920839823deec724_add (data) {\n",
       "            geo_json_f27b79c5e7358e11920839823deec724\n",
       "                .addData(data);\n",
       "        }\n",
       "            geo_json_f27b79c5e7358e11920839823deec724_add({&quot;coordinates&quot;: [[[2.3446343, 48.8540886], [2.3458756, 48.855306], [2.3471147, 48.8572409], [2.3473295, 48.857181], [2.3475739, 48.8573586], [2.3509551, 48.8634017], [2.3304256, 48.8682602], [2.3279994, 48.8699212], [2.3251662, 48.8694169], [2.3253187, 48.8690121], [2.3209335, 48.8630193], [2.3312119, 48.8596794], [2.3376723, 48.8583105], [2.3405675, 48.8566753], [2.3429295, 48.854833], [2.3446343, 48.8540886]]], &quot;type&quot;: &quot;Polygon&quot;});\n",
       "\n",
       "        \n",
       "    \n",
       "            geo_json_f27b79c5e7358e11920839823deec724.addTo(map_724dc75de281192ef05b15f7daec257c);\n",
       "        \n",
       "    \n",
       "            var marker_29e6c34a9f869a499d7479f2ead6a366 = L.marker(\n",
       "                [48.863775354077355, 2.323360274656802],\n",
       "                {}\n",
       "            ).addTo(map_724dc75de281192ef05b15f7daec257c);\n",
       "        \n",
       "&lt;/script&gt;\n",
       "&lt;/html&gt;\" style=\"position:absolute;width:100%;height:100%;left:0;top:0;border:none !important;\" allowfullscreen webkitallowfullscreen mozallowfullscreen></iframe></div></div>"
      ],
      "text/plain": [
       "<folium.folium.Map at 0x2cd6e4b20>"
      ]
     },
     "execution_count": 44,
     "metadata": {},
     "output_type": "execute_result"
    }
   ],
   "source": [
    "def random_point_in_geometry(poly):\n",
    "\n",
    "    if isinstance(poly, Polygon):\n",
    "\n",
    "        minx, miny, maxx, maxy = poly.bounds\n",
    "        while True:\n",
    "            p = Point(random.uniform(minx, maxx), random.uniform(miny, maxy))\n",
    "            if poly.contains(p):\n",
    "                return (p.x,p.y )\n",
    "            \n",
    "    else:\n",
    "\n",
    "        return None\n",
    "        \n",
    "# test de la fonction\n",
    "geom_paris = df_loc[df_loc.codeCommune == '75101'].geometry.values[0]\n",
    "\n",
    "x,y = random_point_in_geometry(geom_paris)\n",
    "\n",
    "# affichage d'une carte folium  \n",
    "m = folium.Map(location=[48.856578, 2.351828], zoom_start=12)\n",
    "folium.GeoJson(geom_paris).add_to(m)\n",
    "\n",
    "folium.Marker([y,x]).add_to(m)\n",
    "\n",
    "m"
   ]
  },
  {
   "cell_type": "markdown",
   "metadata": {},
   "source": [
    "On va maintenant appliquer cela à tous les points :\n",
    "- on crée avec la geometry correspondant au code commune \n",
    "- on crée une colonne qui assigne un point aléatoire\n"
   ]
  },
  {
   "cell_type": "markdown",
   "metadata": {},
   "source": [
    "1. Lecture du fichier"
   ]
  },
  {
   "cell_type": "code",
   "execution_count": 45,
   "metadata": {},
   "outputs": [],
   "source": [
    "df = pd.read_parquet(\"../Données nationales/RegistreNationalEtablissementsActifsRneSirene.parquet\")"
   ]
  },
  {
   "cell_type": "markdown",
   "metadata": {},
   "source": [
    "2. Sélection des entreprises dont la localisation n'est pas renseignée, et ajout des colonnes néecessaires"
   ]
  },
  {
   "cell_type": "code",
   "execution_count": null,
   "metadata": {},
   "outputs": [],
   "source": [
    "# filter on (df.confiance == 5) and (df.qualite_xy == 0)]\n",
    "temp = df[(df.confiance == 0) & (df.qualite_xy == 0)]\n",
    "\n",
    "df_loc = gpd.read_parquet(\"../Données nationales/populationLocalisationCommunes.parquet\")[['codeCommune','geometryCommune']]\n",
    "\n",
    "# join entre temp et df_loc keep \n",
    "temp = pd.merge(temp,df_loc,how='left',left_on='codeInseecommune',right_on='codeCommune')\n",
    "\n",
    "\n",
    "# création d'une colonne avec une localisation aléatoire dans la commune\n",
    "tqdm.pandas()\n",
    "temp[\"random_point\"] = temp.geometryCommune.progress_apply(random_point_in_geometry)\n",
    "\n",
    "# création de deux colonnes avec les coordonnées x et y\n",
    "temp[['x_longitude','y_latitude']] = pd.DataFrame(temp.random_point.tolist(), index=temp.index)"
   ]
  },
  {
   "cell_type": "markdown",
   "metadata": {},
   "source": [
    "3. Remplacement des valeurs dans la df originelle"
   ]
  },
  {
   "cell_type": "code",
   "execution_count": 47,
   "metadata": {},
   "outputs": [],
   "source": [
    "temp = temp.drop(columns=['random_point','geometryCommune'])\n",
    "\n",
    "# replace elements in df with elements in temp\n",
    "df.loc[temp.index] = temp\n",
    "\n",
    "\n",
    "# sauvegarde du fichier\n",
    "df.to_parquet(\"../Données nationales/RegistreNationalEtablissementsActifsRneSirene.parquet\")\n"
   ]
  },
  {
   "cell_type": "markdown",
   "metadata": {},
   "source": [
    "# 5. Formattage final du fichier\n",
    "\n",
    "On formatte le fichier pour qu'il puisse être directement utilisé pour la carte. \n",
    "On lui ajoutes les colonnes suivantes :\n",
    "\n",
    "- 'nom' : le nom de l'entrepise, à défaut son siret\n",
    "- 'adresse' : l'adresse de l'entreprise, à défaut le code postal de la ville"
   ]
  },
  {
   "cell_type": "code",
   "execution_count": 10,
   "metadata": {},
   "outputs": [],
   "source": [
    "df = pd.read_parquet(\"../Données nationales/RegistreNationalEtablissementsActifsRneSirene.parquet\")\n",
    "\n"
   ]
  },
  {
   "cell_type": "markdown",
   "metadata": {},
   "source": [
    "1. Le nom"
   ]
  },
  {
   "cell_type": "code",
   "execution_count": 11,
   "metadata": {},
   "outputs": [],
   "source": [
    "def clean_nomCommercial(x):\n",
    "    \n",
    "    if x != \"0\":\n",
    "        return x\n",
    "    \n",
    "    else:\n",
    "        return \"n.s. cf. Pappers\"\n",
    "\n",
    "df[\"nomCommercial\"] = df.nomCommercial.apply(clean_nomCommercial)\n"
   ]
  },
  {
   "cell_type": "markdown",
   "metadata": {},
   "source": [
    "2. L'adresse\n",
    "\n",
    "On utilse ce jeu de données de correspondance OpenDataSoft ([ici](https://public.opendatasoft.com/explore/dataset/correspondance-code-insee-code-postal/table/))."
   ]
  },
  {
   "cell_type": "code",
   "execution_count": 12,
   "metadata": {},
   "outputs": [],
   "source": [
    "url = \"https://public.opendatasoft.com/api/explore/v2.1/catalog/datasets/correspondance-code-insee-code-postal/exports/csv?lang=fr&timezone=Europe%2FBerlin&use_labels=true&delimiter=%3B\"\n",
    "usecols = [\"Code INSEE\",\"Code Postal\",\"Commune\"]\n",
    "dtypes = {\"Code INSEE\":str,\"Code Postal\":str,\"Commune\":str}\n",
    "\n",
    "\n",
    "df_corresp = pd.read_csv(url,sep=';',usecols=usecols,dtype=dtypes)"
   ]
  },
  {
   "cell_type": "code",
   "execution_count": 13,
   "metadata": {},
   "outputs": [],
   "source": [
    "temp = df[df.adresseEtablissement == \"0\"]\n",
    "\n",
    "temp = pd.merge(temp,df_corresp,how='left',left_on='codeInseecommune',right_on='Code INSEE')\n",
    "\n",
    "temp[\"adresseEtablissement\"] = temp[\"Code Postal\"] + \" \" + temp[\"Commune\"]"
   ]
  },
  {
   "cell_type": "code",
   "execution_count": 14,
   "metadata": {},
   "outputs": [],
   "source": [
    "df.loc[temp.index] = temp"
   ]
  },
  {
   "cell_type": "code",
   "execution_count": 21,
   "metadata": {},
   "outputs": [],
   "source": [
    "df.to_parquet(\"../Données nationales/RegistreNationalEtablissementsActifsRneSirene.parquet\")"
   ]
  }
 ],
 "metadata": {
  "kernelspec": {
   "display_name": "venv_zone_de_chalandise",
   "language": "python",
   "name": "python3"
  },
  "language_info": {
   "codemirror_mode": {
    "name": "ipython",
    "version": 3
   },
   "file_extension": ".py",
   "mimetype": "text/x-python",
   "name": "python",
   "nbconvert_exporter": "python",
   "pygments_lexer": "ipython3",
   "version": "3.9.6"
  }
 },
 "nbformat": 4,
 "nbformat_minor": 2
}
