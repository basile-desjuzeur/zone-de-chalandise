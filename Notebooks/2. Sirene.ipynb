{
 "cells": [
  {
   "cell_type": "markdown",
   "metadata": {},
   "source": [
    "<div style=\"text-align: center;\">\n",
    "    <h1>Base SIRENE</h1>\n",
    "</div>\n",
    "\n",
    "\n",
    "La **base Sirene** est le fournisseur des données d’identité des entreprises et des établissements. \n",
    "Elle fait partie des données de référence du Service public de la donnée mis en place par la loi pour une République numérique.\n",
    "Voir plus d'informations sur le site de **[l'Insee](https://www.insee.fr/fr/information/3591226#:~:text=Elle%20donne%20acc%C3%A8s%20aux%20donn%C3%A9es,r%C3%A9pertoire%20interadministratif%20Sirene%20depuis%201973.)**.\n",
    "\n",
    "Le site [sirene.fr](https://www.sirene.fr/sirene/public/accueil) permet de créer en ligne des fichiers comprenant au maximum 200 000 établissements, ce qui n'est pas assez pour nos besoins ici, il faut donc tout télécharger sur [data gouv](https://www.data.gouv.fr/fr/datasets/base-sirene-des-entreprises-et-de-leurs-etablissements-siren-siret/).\n",
    "\n",
    "Le but de ce notebook est de télécharger cette base de données et de la nettoyer pour obtenir les informations suivantes :\n",
    "\n",
    "- **siret** : code d'identification d'un établissement. On distingue ici les entreprises (identifiées par leur numéro SIREN) des établissements (SIRET = SIREN + NIC)\n",
    "- **codeApe** : activité principale de l'établissement renseignée à l'INPI\n",
    "- **codeInseeCommune** : code de la commune pour pouvoir localiser les entreprises\n",
    "- **nomCommercial** : nom de l'entreprise \n",
    "- **diffusionCommerciale** : oui / non \n",
    "- **adresse** : l'adresse de l'établissement\n",
    "\n",
    "Au total, on a téléchargé ces informations pour **15 millions d'établissements**.\n"
   ]
  },
  {
   "cell_type": "code",
   "execution_count": 1,
   "metadata": {},
   "outputs": [],
   "source": [
    "import pandas as pd\n",
    "import numpy as np"
   ]
  },
  {
   "cell_type": "markdown",
   "metadata": {},
   "source": [
    "# 1. Téléchargement des données\n",
    "\n",
    "On télécharge les données via ce [lien permanent](https://www.data.gouv.fr/fr/datasets/r/0651fb76-bcf3-4f6a-a38d-bc04fa708576) aux serveurs de DataGouv.\n",
    "\n",
    "La documentation relative au jeu de données est disponible [ici](https://static.data.gouv.fr/resources/base-sirene-des-entreprises-et-de-leurs-etablissements-siren-siret/20230523-095315/description-fichier-stocketablissement.pdf)."
   ]
  },
  {
   "cell_type": "code",
   "execution_count": 3,
   "metadata": {},
   "outputs": [
    {
     "name": "stdout",
     "output_type": "stream",
     "text": [
      "<class 'pandas.core.frame.DataFrame'>\n",
      "RangeIndex: 37768657 entries, 0 to 37768656\n",
      "Data columns (total 15 columns):\n",
      " #   Column                                       Dtype \n",
      "---  ------                                       ----- \n",
      " 0   siret                                        object\n",
      " 1   statutDiffusionEtablissement                 object\n",
      " 2   numeroVoieEtablissement                      object\n",
      " 3   typeVoieEtablissement                        object\n",
      " 4   libelleVoieEtablissement                     object\n",
      " 5   codePostalEtablissement                      object\n",
      " 6   libelleCommuneEtablissement                  object\n",
      " 7   codeCommuneEtablissement                     object\n",
      " 8   etatAdministratifEtablissement               object\n",
      " 9   enseigne1Etablissement                       object\n",
      " 10  enseigne2Etablissement                       object\n",
      " 11  enseigne3Etablissement                       object\n",
      " 12  denominationUsuelleEtablissement             object\n",
      " 13  activitePrincipaleEtablissement              object\n",
      " 14  nomenclatureActivitePrincipaleEtablissement  object\n",
      "dtypes: object(15)\n",
      "memory usage: 4.2+ GB\n"
     ]
    }
   ],
   "source": [
    "\n",
    "# paramètres\n",
    "url = \"https://www.data.gouv.fr/fr/datasets/r/0651fb76-bcf3-4f6a-a38d-bc04fa708576\"\n",
    "\n",
    "usecols_dict = {\n",
    "    \"siret\": str,\n",
    "    \"numeroVoieEtablissement\": str,\n",
    "    \"typeVoieEtablissement\": str,\n",
    "    \"libelleVoieEtablissement\": str,\n",
    "    \"codePostalEtablissement\": str,\n",
    "    \"libelleCommuneEtablissement\": str,\n",
    "    \"codeCommuneEtablissement\": str,\n",
    "    \"activitePrincipaleEtablissement\": str,\n",
    "    \"denominationUsuelleEtablissement\": str,\n",
    "    \"etatAdministratifEtablissement\": str,\n",
    "    \"enseigne1Etablissement\": str,\n",
    "    \"enseigne2Etablissement\": str,\n",
    "    \"enseigne3Etablissement\": str,\n",
    "    \"statutDiffusionEtablissement\": str,\n",
    "    \"nomenclatureActivitePrincipaleEtablissement\": str,\n",
    "}\n",
    "\n",
    "\n",
    "df = pd.read_csv(\n",
    "    url, compression=\"zip\", usecols=list(usecols_dict.keys()), dtype=usecols_dict\n",
    ")\n",
    "\n",
    "df.info()"
   ]
  },
  {
   "cell_type": "markdown",
   "metadata": {},
   "source": [
    "# 2. Définition des variables que l'on souhaite garder et des transformations à appliquer\n",
    "\n",
    "On garde :\n",
    "\n",
    "- les établissements actifs\n",
    "- les établissements catégorisés avec la NAF rev2 (l'ancienne naf concerne très peu d'établissements)"
   ]
  },
  {
   "cell_type": "code",
   "execution_count": 7,
   "metadata": {},
   "outputs": [
    {
     "name": "stdout",
     "output_type": "stream",
     "text": [
      "Part d'établissements fermés : 59.12%\n",
      "Part d'établissements 'mal' nomenclaturés : 25.46%\n",
      "Suppression de 59.12% des données\n"
     ]
    }
   ],
   "source": [
    "rows = df.shape[0]\n",
    "\n",
    "nb = df[df.etatAdministratifEtablissement != \"A\"].shape[0]\n",
    "print(\"Part d'établissements fermés : {:.2%}\".format(nb / rows))\n",
    "\n",
    "nb = df[df.nomenclatureActivitePrincipaleEtablissement != \"NAFRev2\"].shape[0]\n",
    "print(\"Part d'établissements 'mal' nomenclaturés : {:.2%}\".format(nb / rows))\n",
    "\n",
    "nb = df[\n",
    "    (df.nomenclatureActivitePrincipaleEtablissement != \"NAFRev2\")\n",
    "    | (df.etatAdministratifEtablissement != \"A\")\n",
    "].shape[0]\n",
    "print(\"Suppression de {:.2%} des données\".format(nb / rows))\n",
    "\n",
    "# on garde les établissements actifs et NAFRev2\n",
    "df = df[\n",
    "    (df.nomenclatureActivitePrincipaleEtablissement == \"NAFRev2\")\n",
    "    & (df.etatAdministratifEtablissement == \"A\")\n",
    "].drop(\n",
    "    [\"nomenclatureActivitePrincipaleEtablissement\", \"etatAdministratifEtablissement\"],\n",
    "    axis=1,\n",
    ")"
   ]
  },
  {
   "cell_type": "markdown",
   "metadata": {},
   "source": [
    "Transformations:\n",
    "\n",
    "- créer une colonne adresse qui concatène les informations\n",
    "- créer une colonne nomCommercial qui concatène les informations\n",
    "- changer les dtypes \n",
    "- changer les noms de colonnes\n"
   ]
  },
  {
   "cell_type": "code",
   "execution_count": null,
   "metadata": {},
   "outputs": [],
   "source": [
    "\n",
    "\n",
    "# 1. Adresses\n",
    "cols_adresse = [\n",
    "    \"numeroVoieEtablissement\",\n",
    "    \"typeVoieEtablissement\",\n",
    "    \"libelleVoieEtablissement\",\n",
    "    \"codePostalEtablissement\",\n",
    "    \"libelleCommuneEtablissement\",\n",
    "]\n",
    "\n",
    "df[\"adresse\"] = df[cols_adresse].apply(\n",
    "    lambda x: \" \".join(x.dropna().astype(str)), axis=1\n",
    ")\n",
    "\n",
    "df = df.drop(cols_adresse, axis=1)\n",
    "\n",
    "# 2. Nom commercial\n",
    "cols_nom = [\n",
    "    \"enseigne1Etablissement\",\n",
    "    \"enseigne2Etablissement\",\n",
    "    \"enseigne3Etablissement\",\n",
    "    \"denominationUsuelleEtablissement\",\n",
    "]\n",
    "\n",
    "df[\"nomCommercial\"] = df[cols_nom].apply(\n",
    "    lambda x: \" \".join(x.dropna().astype(str)), axis=1\n",
    ")\n",
    "\n",
    "df = df.drop(cols_nom, axis=1)"
   ]
  },
  {
   "cell_type": "code",
   "execution_count": 25,
   "metadata": {},
   "outputs": [],
   "source": [
    "# 3. Changement dtypes\n",
    "df[\"statutDiffusionEtablissement\"] = (\n",
    "    df[\"statutDiffusionEtablissement\"].replace([\"O\", \"P\"], [1, 0]).astype(bool)\n",
    ")\n",
    "df[\"siret\"] = df[\"siret\"].astype(np.int64)\n",
    "\n",
    "# 4. Nom colonnes\n",
    "colonnes = {\n",
    "    \"siret\": \"siret\",\n",
    "    \"statutDiffusionEtablissement\": \"diffusionCommerciale\",\n",
    "    \"codeCommuneEtablissement\": \"codeInseeCommune\",\n",
    "    \"activitePrincipaleEtablissement\": \"codeApe\",\n",
    "    \"adresse\": \"adresse\",\n",
    "    \"nomCommercial\": \"nomCommercial\",\n",
    "}\n",
    "\n",
    "df.columns = list(colonnes.values())"
   ]
  },
  {
   "cell_type": "markdown",
   "metadata": {},
   "source": [
    "# 3. Sauvegarde du fichier"
   ]
  },
  {
   "cell_type": "code",
   "execution_count": 30,
   "metadata": {},
   "outputs": [],
   "source": [
    "df.to_parquet(\"../Sirene.parquet\", index=False)"
   ]
  },
  {
   "cell_type": "code",
   "execution_count": null,
   "metadata": {},
   "outputs": [],
   "source": []
  }
 ],
 "metadata": {
  "kernelspec": {
   "display_name": "venv_zone_de_chalandise",
   "language": "python",
   "name": "python3"
  },
  "language_info": {
   "codemirror_mode": {
    "name": "ipython",
    "version": 3
   },
   "file_extension": ".py",
   "mimetype": "text/x-python",
   "name": "python",
   "nbconvert_exporter": "python",
   "pygments_lexer": "ipython3",
   "version": "3.9.6"
  }
 },
 "nbformat": 4,
 "nbformat_minor": 2
}
