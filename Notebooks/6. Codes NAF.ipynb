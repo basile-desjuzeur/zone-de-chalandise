{
 "cells": [
  {
   "cell_type": "markdown",
   "metadata": {},
   "source": [
    "<div style=\"text-align: center;\">\n",
    "    <h1>Codes Nomenclature des Activités Françaises (NAF) </h1>\n",
    "</div>\n",
    "\n",
    "\n",
    "Le but de ce notebook est de télécharger une liste de code NAF.\n",
    "\n",
    "La NAF, nomenclature d'activités française, est une nomenclature des activités économiques productives, principalement élaborée pour faciliter l'organisation de l'information économique et sociale.\n",
    "\n",
    "Le code NAF (ou APE) est construit de la manière suivante :\n",
    "\n",
    "<p align=\"center\">\n",
    "  <img src=\"../img/codeape.png\" alt=\"imagemanquante\" width=\"30%\" />\n",
    "</p>\n",
    "\n",
    "\n",
    "\n",
    "Plus d'informations sur le site de l'[INSEE](https://www.insee.fr/fr/information/2406147).\n",
    "\n",
    "Il s'agit d'extraire de ces données les colonnes suivantes :\n",
    "\n",
    "- codeNAF : on prendra la version rev2 de la nomenclature\n",
    "- Intitule : intitulé du code NAF\n",
    "\n"
   ]
  },
  {
   "cell_type": "code",
   "execution_count": 1,
   "metadata": {},
   "outputs": [],
   "source": [
    "! pip install -q xlrd"
   ]
  },
  {
   "cell_type": "code",
   "execution_count": 2,
   "metadata": {},
   "outputs": [],
   "source": [
    "import os\n",
    "import pandas as pd\n",
    "import re"
   ]
  },
  {
   "cell_type": "markdown",
   "metadata": {},
   "source": [
    "# 1. Téléchargement des données\n",
    "\n",
    "\n",
    "Les codes Naf fournis par l'INSEE peuvent étre téléchargés sur [ce lien](https://www.insee.fr/fr/statistiques/fichier/2120875/int_courts_naf_rev_2.xls). \n"
   ]
  },
  {
   "cell_type": "code",
   "execution_count": 12,
   "metadata": {},
   "outputs": [
    {
     "name": "stdout",
     "output_type": "stream",
     "text": [
      "<class 'pandas.core.frame.DataFrame'>\n",
      "RangeIndex: 2109 entries, 0 to 2108\n",
      "Data columns (total 2 columns):\n",
      " #   Column      Non-Null Count  Dtype \n",
      "---  ------      --------------  ----- \n",
      " 0   codeNaf     1728 non-null   object\n",
      " 1   libelleNaf  1728 non-null   object\n",
      "dtypes: object(2)\n",
      "memory usage: 33.1+ KB\n"
     ]
    }
   ],
   "source": [
    "# paramètres\n",
    "url = \"https://www.insee.fr/fr/statistiques/fichier/2120875/int_courts_naf_rev_2.xls\"\n",
    "usecols = [\"Code\", \" Intitulés de la  NAF rév. 2, version finale \"]\n",
    "\n",
    "df = pd.read_excel(url, usecols=usecols)\n",
    "df.columns = [\"codeNaf\", \"libelleNaf\"]\n",
    "\n",
    "df.info()"
   ]
  },
  {
   "cell_type": "markdown",
   "metadata": {},
   "source": [
    "# 2. Nettoyage des données"
   ]
  },
  {
   "cell_type": "markdown",
   "metadata": {},
   "source": [
    "Dans la colonne 'Code', toutes les mailles sont présentes (Division / Classe et sous Classe).\n",
    "\n",
    "On ne garde que la maille la plus fine de ce découpage, c'est-à-dire les codes de la forme \"99.00Z\"."
   ]
  },
  {
   "cell_type": "code",
   "execution_count": 15,
   "metadata": {},
   "outputs": [],
   "source": [
    "# function to match the pattern\n",
    "def match(string):\n",
    "    return bool(re.match(r\"\\d{2}\\.\\d{2}[A-Z]\", string))\n",
    "\n",
    "\n",
    "df[\"codeNaf\"] = df[\"codeNaf\"].astype(str)\n",
    "\n",
    "# apply the function to the column\n",
    "df[\"match\"] = df[\"codeNaf\"].apply(match)\n",
    "\n",
    "# filter the dataframe\n",
    "df = df[df[\"match\"] == True].drop(\"match\", axis=1)"
   ]
  },
  {
   "cell_type": "markdown",
   "metadata": {},
   "source": [
    "# 3. Sauvegarde du fichier"
   ]
  },
  {
   "cell_type": "code",
   "execution_count": 17,
   "metadata": {},
   "outputs": [],
   "source": [
    "df.to_parquet(\"../Données nationales/NAF.parquet\", index=False)"
   ]
  }
 ],
 "metadata": {
  "kernelspec": {
   "display_name": "venv_zone_de_chalandise",
   "language": "python",
   "name": "python3"
  },
  "language_info": {
   "codemirror_mode": {
    "name": "ipython",
    "version": 3
   },
   "file_extension": ".py",
   "mimetype": "text/x-python",
   "name": "python",
   "nbconvert_exporter": "python",
   "pygments_lexer": "ipython3",
   "version": "3.9.6"
  }
 },
 "nbformat": 4,
 "nbformat_minor": 2
}
