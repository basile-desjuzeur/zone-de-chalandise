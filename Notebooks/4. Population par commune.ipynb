{
 "cells": [
  {
   "cell_type": "markdown",
   "metadata": {},
   "source": [
    "<div style=\"text-align: center;\">\n",
    "    <h1>Population par commune</h1>\n",
    "</div>\n",
    "\n",
    "Le but de ce notebook est de télécharger les données de population par commune.\n",
    "\n",
    "Nous allons pour cela exploiter les résultats du recensement de population 2023 de l'INSEE disponibles sur le site d'[opendatasoft](https://public.opendatasoft.com/explore/dataset/demographyref-france-pop-legale-commune-arrondissement-municipal-millesime/export/?flg=fr&disjunctive.reg_code&disjunctive.reg_name&disjunctive.com_arm_code&disjunctive.com_arm_name&disjunctive.dep_code&disjunctive.arrdep_code&disjunctive.epci_name&disjunctive.epci_code&disjunctive.dep_name&dataChart=eyJxdWVyaWVzIjpbeyJjb25maWciOnsiZGF0YXNldCI6ImRlbW9ncmFwaHlyZWYtZnJhbmNlLXBvcC1sZWdhbGUtY29tbXVuZS1hcnJvbmRpc3NlbWVudC1tdW5pY2lwYWwtbWlsbGVzaW1lIiwib3B0aW9ucyI6eyJmbGciOiJmciIsImRpc2p1bmN0aXZlLnJlZ19jb2RlIjp0cnVlLCJkaXNqdW5jdGl2ZS5yZWdfbmFtZSI6dHJ1ZSwiZGlzanVuY3RpdmUuY29tX2FybV9jb2RlIjp0cnVlLCJkaXNqdW5jdGl2ZS5jb21fYXJtX25hbWUiOnRydWUsImRpc2p1bmN0aXZlLmRlcF9jb2RlIjp0cnVlLCJkaXNqdW5jdGl2ZS5hcnJkZXBfY29kZSI6dHJ1ZSwiZGlzanVuY3RpdmUuZXBjaV9uYW1lIjp0cnVlLCJkaXNqdW5jdGl2ZS5lcGNpX2NvZGUiOnRydWUsImRpc2p1bmN0aXZlLmRlcF9uYW1lIjp0cnVlfX0sImNoYXJ0cyI6W3siYWxpZ25Nb250aCI6dHJ1ZSwidHlwZSI6ImxpbmUiLCJmdW5jIjoiQVZHIiwieUF4aXMiOiJjb21fYXJtX3BvcF9tdW4iLCJzY2llbnRpZmljRGlzcGxheSI6dHJ1ZSwiY29sb3IiOiIjRkY1MTVBIn1dLCJ4QXhpcyI6Imdlb195ZWFyIiwibWF4cG9pbnRzIjoiIiwidGltZXNjYWxlIjoieWVhciIsInNvcnQiOiIifV0sImRpc3BsYXlMZWdlbmQiOnRydWUsImFsaWduTW9udGgiOnRydWV9).\n",
    "\n",
    "La documentation relative à ce jeu de données est consultable [ici](https://public.opendatasoft.com/explore/dataset/demographyref-france-pop-legale-commune-arrondissement-municipal-millesime/information/?flg=fr&disjunctive.reg_code&disjunctive.reg_name&disjunctive.com_arm_code&disjunctive.com_arm_name&disjunctive.dep_code&disjunctive.arrdep_code&disjunctive.epci_name&disjunctive.epci_code&disjunctive.dep_name&dataChart=eyJxdWVyaWVzIjpbeyJjb25maWciOnsiZGF0YXNldCI6ImRlbW9ncmFwaHlyZWYtZnJhbmNlLXBvcC1sZWdhbGUtY29tbXVuZS1hcnJvbmRpc3NlbWVudC1tdW5pY2lwYWwtbWlsbGVzaW1lIiwib3B0aW9ucyI6eyJmbGciOiJmciIsImRpc2p1bmN0aXZlLnJlZ19jb2RlIjp0cnVlLCJkaXNqdW5jdGl2ZS5yZWdfbmFtZSI6dHJ1ZSwiZGlzanVuY3RpdmUuY29tX2FybV9jb2RlIjp0cnVlLCJkaXNqdW5jdGl2ZS5jb21fYXJtX25hbWUiOnRydWUsImRpc2p1bmN0aXZlLmRlcF9jb2RlIjp0cnVlLCJkaXNqdW5jdGl2ZS5hcnJkZXBfY29kZSI6dHJ1ZSwiZGlzanVuY3RpdmUuZXBjaV9uYW1lIjp0cnVlLCJkaXNqdW5jdGl2ZS5lcGNpX2NvZGUiOnRydWUsImRpc2p1bmN0aXZlLmRlcF9uYW1lIjp0cnVlfX0sImNoYXJ0cyI6W3siYWxpZ25Nb250aCI6dHJ1ZSwidHlwZSI6ImxpbmUiLCJmdW5jIjoiQVZHIiwieUF4aXMiOiJjb21fYXJtX3BvcF9tdW4iLCJzY2llbnRpZmljRGlzcGxheSI6dHJ1ZSwiY29sb3IiOiIjRkY1MTVBIn1dLCJ4QXhpcyI6Imdlb195ZWFyIiwibWF4cG9pbnRzIjoiIiwidGltZXNjYWxlIjoieWVhciIsInNvcnQiOiIifV0sImRpc3BsYXlMZWdlbmQiOnRydWUsImFsaWduTW9udGgiOnRydWV9).\n",
    "\n",
    "Il s'agit d'extraire de ces données un tableau avec les colonnes suivantes :\n",
    "\n",
    "- nomCommune\n",
    "- codeInseeCommune (voir [documentation](https://www.insee.fr/fr/information/6800675))\n",
    "- populationCommune"
   ]
  },
  {
   "cell_type": "code",
   "execution_count": 4,
   "metadata": {},
   "outputs": [],
   "source": [
    "import os \n",
    "import pandas as pd \n",
    "import numpy as np\n",
    "import matplotlib.pyplot as plt"
   ]
  },
  {
   "cell_type": "markdown",
   "metadata": {},
   "source": [
    "# 1. Téléchargement des données"
   ]
  },
  {
   "cell_type": "code",
   "execution_count": 8,
   "metadata": {},
   "outputs": [
    {
     "data": {
      "text/plain": [
       "0"
      ]
     },
     "execution_count": 8,
     "metadata": {},
     "output_type": "execute_result"
    }
   ],
   "source": [
    "os.system(\"wget -q -P '../Données nationales/' https://public.opendatasoft.com/api/explore/v2.1/catalog/datasets/demographyref-france-pop-legale-commune-arrondissement-municipal-millesime/exports/csv?lang=fr&timezone=Europe%2FBerlin&use_labels=true&delimiter=%3B\")\n"
   ]
  },
  {
   "cell_type": "markdown",
   "metadata": {},
   "source": [
    "Lecture des données"
   ]
  },
  {
   "cell_type": "code",
   "execution_count": 20,
   "metadata": {},
   "outputs": [],
   "source": [
    "file_path = \"../Données nationales/csv?lang=fr\"\n",
    "\n",
    "df = pd.read_csv(file_path, sep=\";\")"
   ]
  },
  {
   "cell_type": "markdown",
   "metadata": {},
   "source": [
    "# 2. Nettoyage des données\n",
    "\n",
    "\n",
    "\n",
    "*NB : D'après la documentation 'arm' correspond à Arrondissement municipal.*\n"
   ]
  },
  {
   "cell_type": "markdown",
   "metadata": {},
   "source": [
    "## Note sur les années \n",
    "\n",
    "Les données de population publiées par l'INSEE entrent en vigueur au 1er janvier ; elles sont basées sur les divisions administratives au 1er janvier de l'année précédente (N-1) et sur le recensement de l'année N-3.\n",
    "\n",
    "Ainsi :\n",
    "\n",
    "- *census_year* correspond à l'année de recensement (N-3)\n",
    "- *start-year* correspond à l'année d'entrée en vigueur\n",
    "- *geo_year* correspond à l'année de référence géographique lors de l'année d'entrée en vigueur\n",
    "\n",
    "Pour illustrer, dans l'exemple ci-dessous, le recensement a été fait en 2019, le chiffre entre donc en vigueur en 2022. Le découpage géographique retenu est celui en vigueur en 2021.\n"
   ]
  },
  {
   "cell_type": "code",
   "execution_count": 13,
   "metadata": {},
   "outputs": [
    {
     "data": {
      "text/plain": [
       "reg_code                                 32\n",
       "reg_name                    Hauts-de-France\n",
       "com_arm_code                          80514\n",
       "com_arm_name                        Marieux\n",
       "com_arm_pop_mun                         129\n",
       "com_arm_pop_cap                           1\n",
       "com_arm_pop_tot                         130\n",
       "dep_code                                 80\n",
       "arrdep_code                               4\n",
       "census_year                            2019\n",
       "start_year                             2022\n",
       "geo_year                               2021\n",
       "epci_name          CC du Pays du Coquelicot\n",
       "epci_code                       248000747.0\n",
       "dep_name                              Somme\n",
       "Name: 0, dtype: object"
      ]
     },
     "execution_count": 13,
     "metadata": {},
     "output_type": "execute_result"
    }
   ],
   "source": [
    "df.iloc[0]"
   ]
  },
  {
   "cell_type": "markdown",
   "metadata": {},
   "source": [
    "Le jeu de données contient les données relatives aux populations légales des communes et arrondissements municipaux pour les années 2018, 2019, 2020, 2021, 2022, 2023.\n",
    "\n",
    "On va donc prendre pour chaque commune le recensement le plus récent."
   ]
  },
  {
   "cell_type": "code",
   "execution_count": 22,
   "metadata": {},
   "outputs": [],
   "source": [
    "# on ordonne les données par code commune et année de recensement\n",
    "df = df.sort_values(by=['com_arm_code', 'census_year'], ascending=False)\n",
    "\n",
    "# on supprime les recensements les plus anciens\n",
    "df = df.drop_duplicates(subset=['com_arm_code'], keep='first')\n"
   ]
  },
  {
   "cell_type": "markdown",
   "metadata": {},
   "source": [
    "Verif : il doit y avoir environ 35000 communes."
   ]
  },
  {
   "cell_type": "code",
   "execution_count": 25,
   "metadata": {},
   "outputs": [
    {
     "name": "stdout",
     "output_type": "stream",
     "text": [
      "Le fichier contient 35447 lignes.\n"
     ]
    }
   ],
   "source": [
    "print(\"Le fichier contient {} lignes.\".format(df.shape[0]))"
   ]
  },
  {
   "cell_type": "markdown",
   "metadata": {},
   "source": [
    "## Note terminologique \n",
    "\n",
    "La **population comptée à part** comprend certaines personnes dont la résidence habituelle est dans une autre commune mais qui ont conservé une résidence sur le territoire de la commune .\n",
    "\n",
    "Ce sont :\n",
    "\n",
    "1) Les mineurs dont la résidence familiale est dans une autre commune mais qui résident, du fait de leurs études, dans la commune;\n",
    "\n",
    "2) Les personnes majeures âgées de moins de 25 ans ayant leur résidence familiale sur le territoire de la commune et qui résident dans une autre commune pour leurs études;\n",
    "\n",
    "3) Les personnes ayant une résidence familiale sur le territoire de la commune et résidant dans une communauté d'une autre commune, dès lors que la communauté relève de l'une des catégories suivantes :\n",
    "\n",
    "services de moyen ou de long séjour des établissements publics ou privés de santé, établissements sociaux de moyen ou de long séjour, maisons de retraite, foyers et résidences sociales ;\n",
    "communautés religieuses ;\n",
    "casernes ou établissements militaires.\n",
    "\n",
    "La **population municipale** correspond au nombre d'habitants permanent de la commune.\n",
    "\n",
    "\n",
    "Ici on ne va donc garder que la population municipale."
   ]
  },
  {
   "cell_type": "markdown",
   "metadata": {},
   "source": [
    "## Sélection des variable d'intérêt"
   ]
  },
  {
   "cell_type": "code",
   "execution_count": 30,
   "metadata": {},
   "outputs": [],
   "source": [
    "df = df[['com_arm_code', 'com_arm_name', 'com_arm_pop_mun']]"
   ]
  },
  {
   "cell_type": "markdown",
   "metadata": {},
   "source": [
    "Verif : il y a 67.75 millions d'habitants en France"
   ]
  },
  {
   "cell_type": "code",
   "execution_count": 31,
   "metadata": {},
   "outputs": [
    {
     "name": "stdout",
     "output_type": "stream",
     "text": [
      "Nombre d'habitants 67474188.\n"
     ]
    }
   ],
   "source": [
    "print(\"Nombre d'habitants {}.\".format(df['com_arm_pop_mun'].sum()))"
   ]
  },
  {
   "cell_type": "markdown",
   "metadata": {},
   "source": [
    "# Sauvegarde du fichier"
   ]
  },
  {
   "cell_type": "code",
   "execution_count": 32,
   "metadata": {},
   "outputs": [],
   "source": [
    "df.to_parquet('../Données nationales/populationCommune.parquet',index=False)"
   ]
  }
 ],
 "metadata": {
  "kernelspec": {
   "display_name": "venv_zone_de_chalandise",
   "language": "python",
   "name": "python3"
  },
  "language_info": {
   "codemirror_mode": {
    "name": "ipython",
    "version": 3
   },
   "file_extension": ".py",
   "mimetype": "text/x-python",
   "name": "python",
   "nbconvert_exporter": "python",
   "pygments_lexer": "ipython3",
   "version": "3.9.6"
  }
 },
 "nbformat": 4,
 "nbformat_minor": 2
}
